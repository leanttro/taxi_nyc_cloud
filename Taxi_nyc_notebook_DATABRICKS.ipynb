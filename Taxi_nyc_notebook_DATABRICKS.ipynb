{
 "cells": [
  {
   "cell_type": "markdown",
   "metadata": {
    "application/vnd.databricks.v1+cell": {
     "cellMetadata": {},
     "inputWidgets": {},
     "nuid": "db3352bc-b67c-48d9-abe3-1d6ab4b773e7",
     "showTitle": false,
     "tableResultSettingsMap": {},
     "title": ""
    }
   },
   "source": [
    "# - TAXI NYC - MACHINE LEARNING - DATABRICKS"
   ]
  },
  {
   "cell_type": "markdown",
   "metadata": {
    "application/vnd.databricks.v1+cell": {
     "cellMetadata": {
      "byteLimit": 2048000,
      "rowLimit": 10000
     },
     "inputWidgets": {},
     "nuid": "7969f4f0-213c-42b0-945a-0dd4ee4c351e",
     "showTitle": false,
     "tableResultSettingsMap": {},
     "title": ""
    }
   },
   "source": [
    "- Criando Tabela Silver a partir de Amostra de Dados Brutos:\n"
   ]
  },
  {
   "cell_type": "code",
   "execution_count": 0,
   "metadata": {
    "application/vnd.databricks.v1+cell": {
     "cellMetadata": {
      "byteLimit": 2048000,
      "rowLimit": 10000
     },
     "inputWidgets": {},
     "nuid": "980e471f-41ca-41c0-a7bf-3c9fdcac9104",
     "showTitle": false,
     "tableResultSettingsMap": {},
     "title": ""
    }
   },
   "outputs": [],
   "source": [
    "df_bronze = spark.read.table(\"workspace.default.taxi_nyc_bronze\")\n",
    "df_bronze.write.mode(\"overwrite\").saveAsTable(\"workspace.default.taxi_nyc_silver\")"
   ]
  },
  {
   "cell_type": "markdown",
   "metadata": {
    "application/vnd.databricks.v1+cell": {
     "cellMetadata": {},
     "inputWidgets": {},
     "nuid": "44fde140-369f-4f9d-b6f2-06bc6f26cd6e",
     "showTitle": false,
     "tableResultSettingsMap": {},
     "title": ""
    }
   },
   "source": [
    "- Carregando a Tabela Silver e Iniciando a Limpeza:\n"
   ]
  },
  {
   "cell_type": "code",
   "execution_count": 0,
   "metadata": {
    "application/vnd.databricks.v1+cell": {
     "cellMetadata": {
      "byteLimit": 2048000,
      "rowLimit": 10000
     },
     "inputWidgets": {},
     "nuid": "803e7179-58a6-4323-88be-7e2995f73c5c",
     "showTitle": false,
     "tableResultSettingsMap": {},
     "title": ""
    }
   },
   "outputs": [],
   "source": [
    "df_silver = spark.read.table(\"workspace.default.taxi_nyc_silver\")"
   ]
  },
  {
   "cell_type": "markdown",
   "metadata": {
    "application/vnd.databricks.v1+cell": {
     "cellMetadata": {},
     "inputWidgets": {},
     "nuid": "c81c7c79-0aca-4600-a137-334b564fcc45",
     "showTitle": false,
     "tableResultSettingsMap": {},
     "title": ""
    }
   },
   "source": [
    "- Corrigindo Tipos de Dados:\n"
   ]
  },
  {
   "cell_type": "code",
   "execution_count": 0,
   "metadata": {
    "application/vnd.databricks.v1+cell": {
     "cellMetadata": {
      "byteLimit": 2048000,
      "rowLimit": 10000
     },
     "inputWidgets": {},
     "nuid": "bb748936-4436-4670-be2d-b26e07616d33",
     "showTitle": false,
     "tableResultSettingsMap": {},
     "title": ""
    }
   },
   "outputs": [
    {
     "output_type": "stream",
     "name": "stdout",
     "output_type": "stream",
     "text": [
      "root\n |-- VendorID: long (nullable = true)\n |-- tpep_pickup_datetime: timestamp (nullable = true)\n |-- tpep_dropoff_datetime: timestamp (nullable = true)\n |-- pickup_date: date (nullable = true)\n |-- pickup_day_of_week: long (nullable = true)\n |-- pickup_hour: long (nullable = true)\n |-- trip_duration_minutes: long (nullable = true)\n |-- passenger_count: double (nullable = true)\n |-- trip_distance: double (nullable = true)\n |-- total_amount: double (nullable = true)\n\n"
     ]
    }
   ],
   "source": [
    "from pyspark.sql.functions import col, to_timestamp\n",
    "\n",
    "df_silver_tipos_corrigidos = df_silver.withColumn(\"tpep_pickup_datetime\", to_timestamp(col(\"tpep_pickup_datetime\"))) \\\n",
    "                                      .withColumn(\"tpep_dropoff_datetime\", to_timestamp(col(\"tpep_dropoff_datetime\")))\n",
    "\n",
    "df_silver_tipos_corrigidos.printSchema()"
   ]
  },
  {
   "cell_type": "markdown",
   "metadata": {
    "application/vnd.databricks.v1+cell": {
     "cellMetadata": {},
     "inputWidgets": {},
     "nuid": "bf008e38-bb94-4cd5-8049-7196955cf18a",
     "showTitle": false,
     "tableResultSettingsMap": {},
     "title": ""
    }
   },
   "source": [
    "- Removendo Dados Nulos:"
   ]
  },
  {
   "cell_type": "code",
   "execution_count": 0,
   "metadata": {
    "application/vnd.databricks.v1+cell": {
     "cellMetadata": {
      "byteLimit": 2048000,
      "rowLimit": 10000
     },
     "inputWidgets": {},
     "nuid": "abdc14e8-4cdb-4bcd-be6c-ba262187afc5",
     "showTitle": false,
     "tableResultSettingsMap": {},
     "title": ""
    }
   },
   "outputs": [],
   "source": [
    "from pyspark.sql.functions import col\n",
    "\n",
    "df_silver_filtrado = df_silver_tipos_corrigidos.filter(\n",
    "    (col(\"passenger_count\") > 0) &\n",
    "    (col(\"trip_distance\") > 0) &\n",
    "    (col(\"total_amount\") > 0)\n",
    ")"
   ]
  },
  {
   "cell_type": "markdown",
   "metadata": {
    "application/vnd.databricks.v1+cell": {
     "cellMetadata": {},
     "inputWidgets": {},
     "nuid": "214203d9-c531-4d53-a6c9-6abeedb12791",
     "showTitle": false,
     "tableResultSettingsMap": {},
     "title": ""
    }
   },
   "source": [
    "- Adicionando Features (pickup_day_of_week,pickup_hour,trip_duration_minutes):"
   ]
  },
  {
   "cell_type": "code",
   "execution_count": 0,
   "metadata": {
    "application/vnd.databricks.v1+cell": {
     "cellMetadata": {
      "byteLimit": 2048000,
      "rowLimit": 10000
     },
     "inputWidgets": {},
     "nuid": "97552bfd-313c-4434-b150-a4e6b0d6c3a5",
     "showTitle": false,
     "tableResultSettingsMap": {},
     "title": ""
    }
   },
   "outputs": [],
   "source": [
    "from pyspark.sql.functions import col, dayofweek, hour, round, unix_timestamp\n",
    "\n",
    "df_silver_enriquecido = df_silver_filtrado.withColumn(\"pickup_day_of_week\", dayofweek(col(\"tpep_pickup_datetime\"))) \\\n",
    "                                          .withColumn(\"pickup_hour\", hour(col(\"tpep_pickup_datetime\")))\n",
    "\n",
    "duracao_em_segundos = unix_timestamp(col(\"tpep_dropoff_datetime\")) - unix_timestamp(col(\"tpep_pickup_datetime\"))\n",
    "df_silver_enriquecido = df_silver_enriquecido.withColumn(\"trip_duration_minutes\", round(duracao_em_segundos / 60, 2))"
   ]
  },
  {
   "cell_type": "markdown",
   "metadata": {
    "application/vnd.databricks.v1+cell": {
     "cellMetadata": {},
     "inputWidgets": {},
     "nuid": "735b64ba-4103-4f16-ad60-5c1e890d5c2e",
     "showTitle": false,
     "tableResultSettingsMap": {},
     "title": ""
    }
   },
   "source": [
    "- Salvando os Dados Limpos:"
   ]
  },
  {
   "cell_type": "code",
   "execution_count": 0,
   "metadata": {
    "application/vnd.databricks.v1+cell": {
     "cellMetadata": {
      "byteLimit": 2048000,
      "rowLimit": 10000
     },
     "inputWidgets": {},
     "nuid": "0b61ee8e-8729-485b-bde6-b6b1fbef9ec2",
     "showTitle": false,
     "tableResultSettingsMap": {},
     "title": ""
    }
   },
   "outputs": [
    {
     "output_type": "stream",
     "name": "stdout",
     "output_type": "stream",
     "text": [
      "Tabela 'taxi_nyc_silver' atualizada com os dados limpos e enriquecidos.\n"
     ]
    }
   ],
   "source": [
    "df_silver_enriquecido.write \\\n",
    "  .option(\"overwriteSchema\", \"true\") \\\n",
    "  .mode(\"overwrite\") \\\n",
    "  .saveAsTable(\"workspace.default.taxi_nyc_silver\")\n",
    "\n",
    "print(\"Tabela 'taxi_nyc_silver' atualizada com os dados limpos e enriquecidos.\")"
   ]
  },
  {
   "cell_type": "markdown",
   "metadata": {
    "application/vnd.databricks.v1+cell": {
     "cellMetadata": {},
     "inputWidgets": {},
     "nuid": "1ea8b205-91be-4b55-ade1-7b262eb843d6",
     "showTitle": false,
     "tableResultSettingsMap": {},
     "title": ""
    }
   },
   "source": [
    "\" .option(\"overwriteSchema\", \"true\") \" Força o Delta Lake a ignorar o schema antigo da tabela e usar o novo schema."
   ]
  },
  {
   "cell_type": "markdown",
   "metadata": {
    "application/vnd.databricks.v1+cell": {
     "cellMetadata": {},
     "inputWidgets": {},
     "nuid": "a3c5a908-3ffc-404e-a949-6348d26d1d79",
     "showTitle": false,
     "tableResultSettingsMap": {},
     "title": ""
    }
   },
   "source": [
    "- Criando a Camada Gold e Principais Métricas:"
   ]
  },
  {
   "cell_type": "code",
   "execution_count": 0,
   "metadata": {
    "application/vnd.databricks.v1+cell": {
     "cellMetadata": {
      "byteLimit": 2048000,
      "rowLimit": 10000
     },
     "inputWidgets": {},
     "nuid": "aabebbd9-06c7-4b42-b133-8ee0255588c0",
     "showTitle": false,
     "tableResultSettingsMap": {},
     "title": ""
    }
   },
   "outputs": [
    {
     "output_type": "stream",
     "name": "stdout",
     "output_type": "stream",
     "text": [
      "Tabela Gold 'taxi_nyc_gold' criada e pronta para análise.\n"
     ]
    }
   ],
   "source": [
    "\n",
    "df_silver = spark.read.table(\"workspace.taxi_nyc_schema.taxi_nyc_silver\")\n",
    "from pyspark.sql.functions import count, sum, avg, round, col\n",
    "# Agrupando os dados e calcular todas asmétricas\n",
    "df_gold_completa = df_silver.groupBy(\"pickup_day_of_week\", \"pickup_hour\") \\\n",
    "                            .agg(\n",
    "                                count(\"*\").alias(\"total_de_corridas\"),\n",
    "                                round(sum(\"total_amount\"), 2).alias(\"faturamento_total\"),\n",
    "                                round(avg(\"total_amount\"), 2).alias(\"faturamento_medio_por_corrida\"),\n",
    "                                round(avg(\"trip_distance\"), 2).alias(\"distancia_media_percorrida\"),\n",
    "                                round(avg(\"trip_duration_minutes\"), 2).alias(\"duracao_media_da_viagem_minutos\"),\n",
    "                                round(avg(\"passenger_count\"), 2).alias(\"media_de_passageiros\"),\n",
    "                                round(avg(col(\"trip_distance\") / (col(\"trip_duration_minutes\") / 60)), 2).alias(\"velocidade_media_kmh\")\n",
    "                            ).filter(col(\"duracao_media_da_viagem_minutos\") > 0) # Adicionado filtro para evitar divisão por zero\n",
    "\n",
    "df_gold_completa.write.mode(\"overwrite\").option(\"overwriteSchema\", \"true\").saveAsTable(\"workspace.taxi_nyc_schema.taxi_nyc_gold\")\n",
    "\n",
    "print(\"Tabela Gold 'taxi_nyc_gold' criada e pronta para análise.\")"
   ]
  },
  {
   "cell_type": "markdown",
   "metadata": {
    "application/vnd.databricks.v1+cell": {
     "cellMetadata": {},
     "inputWidgets": {},
     "nuid": "ccfd800f-b2be-4aaf-b945-b396b88e5c31",
     "showTitle": false,
     "tableResultSettingsMap": {},
     "title": ""
    }
   },
   "source": [
    "- Métricas Adicionadas: Total de Corridas, Faturamento Total, Faturamento Médio por Corrida, Distância Média Percorrida, Duração Média da Viagem em Minutos, Média de Passageiros e Velocidade Média! \n"
   ]
  },
  {
   "cell_type": "markdown",
   "metadata": {
    "application/vnd.databricks.v1+cell": {
     "cellMetadata": {},
     "inputWidgets": {},
     "nuid": "033f9b7a-6497-4f5b-aad0-5c9eb44fd893",
     "showTitle": false,
     "tableResultSettingsMap": {},
     "title": ""
    }
   },
   "source": [
    "- Total de Corridas por Hora (Demanda):\n"
   ]
  },
  {
   "cell_type": "code",
   "execution_count": 0,
   "metadata": {
    "application/vnd.databricks.v1+cell": {
     "cellMetadata": {
      "byteLimit": 2048000,
      "implicitDf": true,
      "rowLimit": 10000
     },
     "inputWidgets": {},
     "nuid": "b442fa24-7346-42d3-81af-1b79a33bb5f9",
     "showTitle": false,
     "tableResultSettingsMap": {},
     "title": ""
    }
   },
   "outputs": [
    {
     "output_type": "display_data",
     "data": {
      "text/html": [
       "<style scoped>\n",
       "  .table-result-container {\n",
       "    max-height: 300px;\n",
       "    overflow: auto;\n",
       "  }\n",
       "  table, th, td {\n",
       "    border: 1px solid black;\n",
       "    border-collapse: collapse;\n",
       "  }\n",
       "  th, td {\n",
       "    padding: 5px;\n",
       "  }\n",
       "  th {\n",
       "    text-align: left;\n",
       "  }\n",
       "</style><div class='table-result-container'><table class='table-result'><thead style='background-color: white'><tr><th>Hora_Embarque</th><th>volume_total_corridas</th></tr></thead><tbody><tr><td>0</td><td>2204</td></tr><tr><td>1</td><td>1477</td></tr><tr><td>2</td><td>998</td></tr><tr><td>3</td><td>658</td></tr><tr><td>4</td><td>476</td></tr><tr><td>5</td><td>647</td></tr><tr><td>6</td><td>1590</td></tr><tr><td>7</td><td>2919</td></tr><tr><td>8</td><td>3988</td></tr><tr><td>9</td><td>4509</td></tr><tr><td>10</td><td>4709</td></tr><tr><td>11</td><td>5045</td></tr><tr><td>12</td><td>5427</td></tr><tr><td>13</td><td>5760</td></tr><tr><td>14</td><td>5881</td></tr><tr><td>15</td><td>6053</td></tr><tr><td>16</td><td>6106</td></tr><tr><td>17</td><td>6455</td></tr><tr><td>18</td><td>6483</td></tr><tr><td>19</td><td>5534</td></tr><tr><td>20</td><td>5014</td></tr><tr><td>21</td><td>4852</td></tr><tr><td>22</td><td>4359</td></tr><tr><td>23</td><td>3122</td></tr></tbody></table></div>"
      ]
     },
     "metadata": {
      "application/vnd.databricks.v1+output": {
       "addedWidgets": {},
       "aggData": [],
       "aggError": "",
       "aggOverflow": false,
       "aggSchema": [],
       "aggSeriesLimitReached": false,
       "aggType": "",
       "arguments": {},
       "columnCustomDisplayInfos": {},
       "data": [
        [
         0,
         2204
        ],
        [
         1,
         1477
        ],
        [
         2,
         998
        ],
        [
         3,
         658
        ],
        [
         4,
         476
        ],
        [
         5,
         647
        ],
        [
         6,
         1590
        ],
        [
         7,
         2919
        ],
        [
         8,
         3988
        ],
        [
         9,
         4509
        ],
        [
         10,
         4709
        ],
        [
         11,
         5045
        ],
        [
         12,
         5427
        ],
        [
         13,
         5760
        ],
        [
         14,
         5881
        ],
        [
         15,
         6053
        ],
        [
         16,
         6106
        ],
        [
         17,
         6455
        ],
        [
         18,
         6483
        ],
        [
         19,
         5534
        ],
        [
         20,
         5014
        ],
        [
         21,
         4852
        ],
        [
         22,
         4359
        ],
        [
         23,
         3122
        ]
       ],
       "datasetInfos": [
        {
         "name": "_sqldf",
         "schema": {
          "fields": [
           {
            "metadata": {},
            "name": "Hora_Embarque",
            "nullable": true,
            "type": "integer"
           },
           {
            "metadata": {},
            "name": "volume_total_corridas",
            "nullable": true,
            "type": "long"
           }
          ],
          "type": "struct"
         },
         "tableIdentifier": null,
         "typeStr": "pyspark.sql.connect.dataframe.DataFrame"
        }
       ],
       "dbfsResultPath": null,
       "isJsonSchema": true,
       "metadata": {
        "createTempViewForImplicitDf": true,
        "dataframeName": "_sqldf",
        "executionCount": 68
       },
       "overflow": false,
       "plotOptions": {
        "customPlotOptions": {},
        "displayType": "table",
        "pivotAggregation": null,
        "pivotColumns": null,
        "xColumns": null,
        "yColumns": null
       },
       "removedWidgets": [],
       "schema": [
        {
         "metadata": "{}",
         "name": "Hora_Embarque",
         "type": "\"integer\""
        },
        {
         "metadata": "{}",
         "name": "volume_total_corridas",
         "type": "\"long\""
        }
       ],
       "type": "table"
      }
     },
     "output_type": "display_data"
    }
   ],
   "source": [
    "\n",
    "%sql\n",
    "SELECT\n",
    "  pickup_hour as Hora_Embarque,\n",
    "  SUM(total_de_corridas) AS volume_total_corridas\n",
    "FROM\n",
    "  workspace.taxi_nyc_schema.taxi_nyc_gold\n",
    "GROUP BY\n",
    "  pickup_hour\n",
    "ORDER BY\n",
    "  pickup_hour\n"
   ]
  },
  {
   "cell_type": "code",
   "execution_count": 0,
   "metadata": {
    "application/vnd.databricks.v1+cell": {
     "cellMetadata": {
      "byteLimit": 2048000,
      "implicitDf": true,
      "rowLimit": 10000
     },
     "inputWidgets": {},
     "nuid": "7d20df08-3967-4774-8a09-53dc14a4b3b6",
     "showTitle": false,
     "tableResultSettingsMap": {},
     "title": ""
    }
   },
   "outputs": [
    {
     "output_type": "display_data",
     "data": {
      "text/html": [
       "<style scoped>\n",
       "  .table-result-container {\n",
       "    max-height: 300px;\n",
       "    overflow: auto;\n",
       "  }\n",
       "  table, th, td {\n",
       "    border: 1px solid black;\n",
       "    border-collapse: collapse;\n",
       "  }\n",
       "  th, td {\n",
       "    padding: 5px;\n",
       "  }\n",
       "  th {\n",
       "    text-align: left;\n",
       "  }\n",
       "</style><div class='table-result-container'><table class='table-result'><thead style='background-color: white'><tr><th>pickup_hour</th><th>volume_total_corridas</th></tr></thead><tbody><tr><td>0</td><td>2204</td></tr><tr><td>1</td><td>1477</td></tr><tr><td>2</td><td>998</td></tr><tr><td>3</td><td>658</td></tr><tr><td>4</td><td>476</td></tr><tr><td>5</td><td>647</td></tr><tr><td>6</td><td>1590</td></tr><tr><td>7</td><td>2919</td></tr><tr><td>8</td><td>3988</td></tr><tr><td>9</td><td>4509</td></tr><tr><td>10</td><td>4709</td></tr><tr><td>11</td><td>5045</td></tr><tr><td>12</td><td>5427</td></tr><tr><td>13</td><td>5760</td></tr><tr><td>14</td><td>5881</td></tr><tr><td>15</td><td>6053</td></tr><tr><td>16</td><td>6106</td></tr><tr><td>17</td><td>6455</td></tr><tr><td>18</td><td>6483</td></tr><tr><td>19</td><td>5534</td></tr><tr><td>20</td><td>5014</td></tr><tr><td>21</td><td>4852</td></tr><tr><td>22</td><td>4359</td></tr><tr><td>23</td><td>3122</td></tr></tbody></table></div>"
      ]
     },
     "metadata": {
      "application/vnd.databricks.v1+output": {
       "addedWidgets": {},
       "aggData": [],
       "aggError": "",
       "aggOverflow": false,
       "aggSchema": [],
       "aggSeriesLimitReached": false,
       "aggType": "",
       "arguments": {},
       "columnCustomDisplayInfos": {},
       "data": [
        [
         0,
         2204
        ],
        [
         1,
         1477
        ],
        [
         2,
         998
        ],
        [
         3,
         658
        ],
        [
         4,
         476
        ],
        [
         5,
         647
        ],
        [
         6,
         1590
        ],
        [
         7,
         2919
        ],
        [
         8,
         3988
        ],
        [
         9,
         4509
        ],
        [
         10,
         4709
        ],
        [
         11,
         5045
        ],
        [
         12,
         5427
        ],
        [
         13,
         5760
        ],
        [
         14,
         5881
        ],
        [
         15,
         6053
        ],
        [
         16,
         6106
        ],
        [
         17,
         6455
        ],
        [
         18,
         6483
        ],
        [
         19,
         5534
        ],
        [
         20,
         5014
        ],
        [
         21,
         4852
        ],
        [
         22,
         4359
        ],
        [
         23,
         3122
        ]
       ],
       "datasetInfos": [
        {
         "name": "_sqldf",
         "schema": {
          "fields": [
           {
            "metadata": {},
            "name": "pickup_hour",
            "nullable": true,
            "type": "integer"
           },
           {
            "metadata": {},
            "name": "volume_total_corridas",
            "nullable": true,
            "type": "long"
           }
          ],
          "type": "struct"
         },
         "tableIdentifier": null,
         "typeStr": "pyspark.sql.connect.dataframe.DataFrame"
        }
       ],
       "dbfsResultPath": null,
       "isJsonSchema": true,
       "metadata": {
        "createTempViewForImplicitDf": true,
        "dataframeName": "_sqldf",
        "executionCount": 30
       },
       "overflow": false,
       "plotOptions": {
        "customPlotOptions": {},
        "displayType": "table",
        "pivotAggregation": null,
        "pivotColumns": null,
        "xColumns": null,
        "yColumns": null
       },
       "removedWidgets": [],
       "schema": [
        {
         "metadata": "{}",
         "name": "pickup_hour",
         "type": "\"integer\""
        },
        {
         "metadata": "{}",
         "name": "volume_total_corridas",
         "type": "\"long\""
        }
       ],
       "type": "table"
      }
     },
     "output_type": "display_data"
    },
    {
     "output_type": "display_data",
     "data": {
      "text/plain": [
       "Databricks visualization. Run in Databricks to view."
      ]
     },
     "metadata": {
      "application/vnd.databricks.v1.subcommand+json": {
       "baseErrorDetails": null,
       "bindings": {},
       "collapsed": false,
       "command": "%sql WITH q AS (SELECT\n  pickup_hour,\n  SUM(total_de_corridas) AS volume_total_corridas\nFROM\n  workspace.taxi_nyc_schema.taxi_nyc_gold\nGROUP BY\n  pickup_hour\nORDER BY\n  pickup_hour) SELECT `pickup_hour`,SUM(`volume_total_corridas`) `column_49840a85375` FROM q GROUP BY `pickup_hour`",
       "commandTitle": "Corrida x Hora",
       "commandType": "auto",
       "commandVersion": 0,
       "commentThread": [],
       "commentsVisible": false,
       "contentSha256Hex": null,
       "customPlotOptions": {
        "redashChart": [
         {
          "key": "type",
          "value": "CHART"
         },
         {
          "key": "options",
          "value": {
           "alignYAxesAtZero": true,
           "coefficient": 1,
           "columnConfigurationMap": {
            "x": {
             "column": "pickup_hour",
             "id": "column_49840a85374"
            },
            "y": [
             {
              "column": "volume_total_corridas",
              "id": "column_49840a85375",
              "transform": "SUM"
             }
            ]
           },
           "dateTimeFormat": "DD/MM/YYYY HH:mm",
           "direction": {
            "type": "counterclockwise"
           },
           "error_y": {
            "type": "data",
            "visible": true
           },
           "globalSeriesType": "column",
           "isAggregationOn": true,
           "legend": {
            "traceorder": "normal"
           },
           "missingValuesAsZero": true,
           "numberFormat": "0,0.[00000]",
           "percentFormat": "0[.]00%",
           "series": {
            "error_y": {
             "type": "data",
             "visible": true
            },
            "stacking": null
           },
           "seriesOptions": {
            "column_49840a85375": {
             "color": "#FFAB00",
             "name": "volume_total_corridas",
             "type": "column",
             "yAxis": 0
            }
           },
           "showDataLabels": false,
           "sizemode": "diameter",
           "sortX": true,
           "sortY": true,
           "swappedAxes": false,
           "textFormat": "",
           "useAggregationsUi": true,
           "valuesOptions": {},
           "version": 2,
           "xAxis": {
            "labels": {
             "enabled": true
            },
            "title": {
             "text": "Hora do embarque"
            },
            "type": "-"
           },
           "yAxis": [
            {
             "title": {
              "text": "Total de Corrida"
             },
             "type": "-"
            },
            {
             "opposite": true,
             "type": "-"
            }
           ]
          }
         }
        ]
       },
       "datasetPreviewNameToCmdIdMap": {},
       "diffDeletes": [],
       "diffInserts": [],
       "displayType": "redashChart",
       "error": null,
       "errorDetails": null,
       "errorSummary": null,
       "errorTraceType": null,
       "finishTime": 0,
       "globalVars": {},
       "guid": "",
       "height": "auto",
       "hideCommandCode": false,
       "hideCommandResult": false,
       "iPythonMetadata": null,
       "inputWidgets": {},
       "isLockedInExamMode": false,
       "latestAssumeRoleInfo": null,
       "latestUser": "a user",
       "latestUserId": null,
       "listResultMetadata": null,
       "metadata": {},
       "nuid": "c36b5bac-66bc-4c33-98ca-e701bb93c692",
       "origId": 0,
       "parentHierarchy": [],
       "pivotAggregation": null,
       "pivotColumns": null,
       "position": 8.9921875,
       "resultDbfsErrorMessage": null,
       "resultDbfsStatus": "INLINED_IN_TREE",
       "results": null,
       "showCommandTitle": false,
       "startTime": 0,
       "state": "input",
       "streamStates": {},
       "subcommandOptions": {
        "queryPlan": {
         "groups": [
          {
           "column": "pickup_hour",
           "type": "column"
          }
         ],
         "selects": [
          {
           "column": "pickup_hour",
           "type": "column"
          },
          {
           "alias": "column_49840a85375",
           "args": [
            {
             "column": "volume_total_corridas",
             "type": "column"
            }
           ],
           "function": "SUM",
           "type": "function"
          }
         ]
        }
       },
       "submitTime": 0,
       "subtype": "tableResultSubCmd.visualization",
       "tableResultIndex": 0,
       "tableResultSettingsMap": {},
       "useConsistentColors": false,
       "version": "CommandV1",
       "width": "auto",
       "workflows": [],
       "xColumns": null,
       "yColumns": null
      }
     },
     "output_type": "display_data"
    }
   ],
   "source": [
    "%sql\n",
    "SELECT\n",
    "  pickup_hour,\n",
    "  SUM(total_de_corridas) AS volume_total_corridas\n",
    "FROM\n",
    "  workspace.taxi_nyc_schema.taxi_nyc_gold\n",
    "GROUP BY\n",
    "  pickup_hour\n",
    "ORDER BY\n",
    "  pickup_hour"
   ]
  },
  {
   "cell_type": "markdown",
   "metadata": {
    "application/vnd.databricks.v1+cell": {
     "cellMetadata": {},
     "inputWidgets": {},
     "nuid": "09d5cb59-1a4a-4e43-b365-c5ba51fb44a9",
     "showTitle": false,
     "tableResultSettingsMap": {},
     "title": ""
    }
   },
   "source": [
    " - Faturamento por Dia da Semana"
   ]
  },
  {
   "cell_type": "code",
   "execution_count": 0,
   "metadata": {
    "application/vnd.databricks.v1+cell": {
     "cellMetadata": {
      "byteLimit": 2048000,
      "implicitDf": true,
      "rowLimit": 10000
     },
     "inputWidgets": {},
     "nuid": "1dff31fb-7447-40f7-bce8-0e7a3b4bb9bb",
     "showTitle": false,
     "tableResultSettingsMap": {},
     "title": ""
    }
   },
   "outputs": [
    {
     "output_type": "display_data",
     "data": {
      "text/html": [
       "<style scoped>\n",
       "  .table-result-container {\n",
       "    max-height: 300px;\n",
       "    overflow: auto;\n",
       "  }\n",
       "  table, th, td {\n",
       "    border: 1px solid black;\n",
       "    border-collapse: collapse;\n",
       "  }\n",
       "  th, td {\n",
       "    padding: 5px;\n",
       "  }\n",
       "  th {\n",
       "    text-align: left;\n",
       "  }\n",
       "</style><div class='table-result-container'><table class='table-result'><thead style='background-color: white'><tr><th>dia_da_semana</th><th>faturamento</th></tr></thead><tbody><tr><td>5 - Quinta</td><td>435108.76999999996</td></tr><tr><td>4 - Quarta</td><td>403499.92999999993</td></tr><tr><td>6 - Sexta</td><td>394801.41000000003</td></tr><tr><td>3 - Terça</td><td>383832.52</td></tr><tr><td>2 - Segunda</td><td>347733.4</td></tr><tr><td>7 - Sábado</td><td>333671.79999999993</td></tr><tr><td>1 - Domingo</td><td>290625.92</td></tr></tbody></table></div>"
      ]
     },
     "metadata": {
      "application/vnd.databricks.v1+output": {
       "addedWidgets": {},
       "aggData": [],
       "aggError": "",
       "aggOverflow": false,
       "aggSchema": [],
       "aggSeriesLimitReached": false,
       "aggType": "",
       "arguments": {},
       "columnCustomDisplayInfos": {},
       "data": [
        [
         "5 - Quinta",
         435108.76999999996
        ],
        [
         "4 - Quarta",
         403499.92999999993
        ],
        [
         "6 - Sexta",
         394801.41000000003
        ],
        [
         "3 - Terça",
         383832.52
        ],
        [
         "2 - Segunda",
         347733.4
        ],
        [
         "7 - Sábado",
         333671.79999999993
        ],
        [
         "1 - Domingo",
         290625.92
        ]
       ],
       "datasetInfos": [
        {
         "name": "_sqldf",
         "schema": {
          "fields": [
           {
            "metadata": {},
            "name": "dia_da_semana",
            "nullable": true,
            "type": "string"
           },
           {
            "metadata": {},
            "name": "faturamento",
            "nullable": true,
            "type": "double"
           }
          ],
          "type": "struct"
         },
         "tableIdentifier": null,
         "typeStr": "pyspark.sql.connect.dataframe.DataFrame"
        }
       ],
       "dbfsResultPath": null,
       "isJsonSchema": true,
       "metadata": {
        "createTempViewForImplicitDf": true,
        "dataframeName": "_sqldf",
        "executionCount": 42
       },
       "overflow": false,
       "plotOptions": {
        "customPlotOptions": {},
        "displayType": "table",
        "pivotAggregation": null,
        "pivotColumns": null,
        "xColumns": null,
        "yColumns": null
       },
       "removedWidgets": [],
       "schema": [
        {
         "metadata": "{}",
         "name": "dia_da_semana",
         "type": "\"string\""
        },
        {
         "metadata": "{}",
         "name": "faturamento",
         "type": "\"double\""
        }
       ],
       "type": "table"
      }
     },
     "output_type": "display_data"
    }
   ],
   "source": [
    "%sql\n",
    "SELECT\n",
    "  CASE\n",
    "    WHEN pickup_day_of_week = 1 THEN '1 - Domingo'\n",
    "    WHEN pickup_day_of_week = 2 THEN '2 - Segunda'\n",
    "    WHEN pickup_day_of_week = 3 THEN '3 - Terça'\n",
    "    WHEN pickup_day_of_week = 4 THEN '4 - Quarta'\n",
    "    WHEN pickup_day_of_week = 5 THEN '5 - Quinta'\n",
    "    WHEN pickup_day_of_week = 6 THEN '6 - Sexta'\n",
    "    WHEN pickup_day_of_week = 7 THEN '7 - Sábado'\n",
    "  END as dia_da_semana,\n",
    "  SUM(faturamento_total) as faturamento\n",
    "FROM\n",
    "  taxi_nyc_schema.taxi_nyc_gold -- <-- NOME DO SCHEMA ATUALIZADO AQUI\n",
    "GROUP BY\n",
    "  pickup_day_of_week\n",
    "ORDER BY\n",
    "  faturamento DESC;\n"
   ]
  },
  {
   "cell_type": "code",
   "execution_count": 0,
   "metadata": {
    "application/vnd.databricks.v1+cell": {
     "cellMetadata": {
      "byteLimit": 2048000,
      "implicitDf": true,
      "rowLimit": 10000
     },
     "inputWidgets": {},
     "nuid": "2a870d42-55a5-46e6-ae38-106f97c1642f",
     "showTitle": false,
     "tableResultSettingsMap": {},
     "title": ""
    }
   },
   "outputs": [
    {
     "output_type": "display_data",
     "data": {
      "text/html": [
       "<style scoped>\n",
       "  .table-result-container {\n",
       "    max-height: 300px;\n",
       "    overflow: auto;\n",
       "  }\n",
       "  table, th, td {\n",
       "    border: 1px solid black;\n",
       "    border-collapse: collapse;\n",
       "  }\n",
       "  th, td {\n",
       "    padding: 5px;\n",
       "  }\n",
       "  th {\n",
       "    text-align: left;\n",
       "  }\n",
       "</style><div class='table-result-container'><table class='table-result'><thead style='background-color: white'><tr><th>dia_da_semana</th><th>faturamento</th></tr></thead><tbody><tr><td>5 - Quinta</td><td>435108.76999999996</td></tr><tr><td>4 - Quarta</td><td>403499.92999999993</td></tr><tr><td>6 - Sexta</td><td>394801.41000000003</td></tr><tr><td>3 - Terça</td><td>383832.52</td></tr><tr><td>2 - Segunda</td><td>347733.4</td></tr><tr><td>7 - Sábado</td><td>333671.79999999993</td></tr><tr><td>1 - Domingo</td><td>290625.92</td></tr></tbody></table></div>"
      ]
     },
     "metadata": {
      "application/vnd.databricks.v1+output": {
       "addedWidgets": {},
       "aggData": [],
       "aggError": "",
       "aggOverflow": false,
       "aggSchema": [],
       "aggSeriesLimitReached": false,
       "aggType": "",
       "arguments": {},
       "columnCustomDisplayInfos": {},
       "data": [
        [
         "5 - Quinta",
         435108.76999999996
        ],
        [
         "4 - Quarta",
         403499.92999999993
        ],
        [
         "6 - Sexta",
         394801.41000000003
        ],
        [
         "3 - Terça",
         383832.52
        ],
        [
         "2 - Segunda",
         347733.4
        ],
        [
         "7 - Sábado",
         333671.79999999993
        ],
        [
         "1 - Domingo",
         290625.92
        ]
       ],
       "datasetInfos": [
        {
         "name": "_sqldf",
         "schema": {
          "fields": [
           {
            "metadata": {},
            "name": "dia_da_semana",
            "nullable": true,
            "type": "string"
           },
           {
            "metadata": {},
            "name": "faturamento",
            "nullable": true,
            "type": "double"
           }
          ],
          "type": "struct"
         },
         "tableIdentifier": null,
         "typeStr": "pyspark.sql.connect.dataframe.DataFrame"
        }
       ],
       "dbfsResultPath": null,
       "isJsonSchema": true,
       "metadata": {
        "createTempViewForImplicitDf": true,
        "dataframeName": "_sqldf",
        "executionCount": 43
       },
       "overflow": false,
       "plotOptions": {
        "customPlotOptions": {},
        "displayType": "table",
        "pivotAggregation": null,
        "pivotColumns": null,
        "xColumns": null,
        "yColumns": null
       },
       "removedWidgets": [],
       "schema": [
        {
         "metadata": "{}",
         "name": "dia_da_semana",
         "type": "\"string\""
        },
        {
         "metadata": "{}",
         "name": "faturamento",
         "type": "\"double\""
        }
       ],
       "type": "table"
      }
     },
     "output_type": "display_data"
    },
    {
     "output_type": "display_data",
     "data": {
      "text/plain": [
       "Databricks visualization. Run in Databricks to view."
      ]
     },
     "metadata": {
      "application/vnd.databricks.v1.subcommand+json": {
       "baseErrorDetails": null,
       "bindings": {},
       "collapsed": false,
       "command": "%sql WITH q AS (SELECT\n  CASE\n    WHEN pickup_day_of_week = 1 THEN '1 - Domingo'\n    WHEN pickup_day_of_week = 2 THEN '2 - Segunda'\n    WHEN pickup_day_of_week = 3 THEN '3 - Terça'\n    WHEN pickup_day_of_week = 4 THEN '4 - Quarta'\n    WHEN pickup_day_of_week = 5 THEN '5 - Quinta'\n    WHEN pickup_day_of_week = 6 THEN '6 - Sexta'\n    WHEN pickup_day_of_week = 7 THEN '7 - Sábado'\n  END as dia_da_semana,\n  SUM(faturamento_total) as faturamento\nFROM\n  taxi_nyc_schema.taxi_nyc_gold \nGROUP BY\n  pickup_day_of_week\nORDER BY\n  pickup_day_of_week) SELECT `dia_da_semana`,SUM(`faturamento`) `column_49840a85450` FROM q GROUP BY `dia_da_semana`",
       "commandTitle": "Dias da Semana mais Lucrativos",
       "commandType": "auto",
       "commandVersion": 0,
       "commentThread": [],
       "commentsVisible": false,
       "contentSha256Hex": null,
       "customPlotOptions": {
        "redashChart": [
         {
          "key": "type",
          "value": "CHART"
         },
         {
          "key": "options",
          "value": {
           "alignYAxesAtZero": true,
           "coefficient": 1,
           "columnConfigurationMap": {
            "x": {
             "column": "dia_da_semana",
             "id": "column_49840a85449"
            },
            "y": [
             {
              "column": "faturamento",
              "id": "column_49840a85450",
              "transform": "SUM"
             }
            ]
           },
           "dateTimeFormat": "DD/MM/YYYY HH:mm",
           "direction": {
            "type": "counterclockwise"
           },
           "error_y": {
            "type": "data",
            "visible": true
           },
           "globalSeriesType": "pie",
           "isAggregationOn": true,
           "legend": {
            "traceorder": "normal"
           },
           "missingValuesAsZero": true,
           "numberFormat": "0,0.[00000]",
           "percentFormat": "0[.]00%",
           "series": {
            "error_y": {
             "type": "data",
             "visible": true
            },
            "stacking": null
           },
           "seriesOptions": {
            "column_49840a85450": {
             "name": "faturamento",
             "type": "pie",
             "yAxis": 0
            }
           },
           "showDataLabels": true,
           "sizemode": "diameter",
           "sortX": true,
           "sortY": true,
           "swappedAxes": false,
           "textFormat": "",
           "useAggregationsUi": true,
           "valuesOptions": {
            "2 - Segunda": {
             "color": "#FFFACD"
            },
            "3 - Terça": {
             "color": "#FFBF00"
            },
            "4 - Quarta": {
             "color": "#FFAB00"
            },
            "5 - Quinta": {
             "color": "#FFFFE0"
            },
            "6 - Sexta": {
             "color": "#FFDF00"
            },
            "7 - Sábado": {
             "color": "#FFEF00"
            }
           },
           "version": 2,
           "xAxis": {
            "labels": {
             "enabled": true
            },
            "type": "-"
           },
           "yAxis": [
            {
             "type": "-"
            },
            {
             "opposite": true,
             "type": "-"
            }
           ]
          }
         }
        ]
       },
       "datasetPreviewNameToCmdIdMap": {},
       "diffDeletes": [],
       "diffInserts": [],
       "displayType": "redashChart",
       "error": null,
       "errorDetails": null,
       "errorSummary": null,
       "errorTraceType": null,
       "finishTime": 0,
       "globalVars": {},
       "guid": "",
       "height": "auto",
       "hideCommandCode": false,
       "hideCommandResult": false,
       "iPythonMetadata": null,
       "inputWidgets": {},
       "isLockedInExamMode": false,
       "latestAssumeRoleInfo": null,
       "latestUser": "a user",
       "latestUserId": null,
       "listResultMetadata": null,
       "metadata": {},
       "nuid": "cf9c4336-d995-43bb-9fc6-30116d25b03e",
       "origId": 0,
       "parentHierarchy": [],
       "pivotAggregation": null,
       "pivotColumns": null,
       "position": 8.998046875,
       "resultDbfsErrorMessage": null,
       "resultDbfsStatus": "INLINED_IN_TREE",
       "results": null,
       "showCommandTitle": false,
       "startTime": 0,
       "state": "input",
       "streamStates": {},
       "subcommandOptions": {
        "queryPlan": {
         "groups": [
          {
           "column": "dia_da_semana",
           "type": "column"
          }
         ],
         "selects": [
          {
           "column": "dia_da_semana",
           "type": "column"
          },
          {
           "alias": "column_49840a85450",
           "args": [
            {
             "column": "faturamento",
             "type": "column"
            }
           ],
           "function": "SUM",
           "type": "function"
          }
         ]
        }
       },
       "submitTime": 0,
       "subtype": "tableResultSubCmd.visualization",
       "tableResultIndex": 0,
       "tableResultSettingsMap": {},
       "useConsistentColors": false,
       "version": "CommandV1",
       "width": "auto",
       "workflows": [],
       "xColumns": null,
       "yColumns": null
      }
     },
     "output_type": "display_data"
    }
   ],
   "source": [
    "%sql\n",
    "SELECT\n",
    "  CASE\n",
    "    WHEN pickup_day_of_week = 1 THEN '1 - Domingo'\n",
    "    WHEN pickup_day_of_week = 2 THEN '2 - Segunda'\n",
    "    WHEN pickup_day_of_week = 3 THEN '3 - Terça'\n",
    "    WHEN pickup_day_of_week = 4 THEN '4 - Quarta'\n",
    "    WHEN pickup_day_of_week = 5 THEN '5 - Quinta'\n",
    "    WHEN pickup_day_of_week = 6 THEN '6 - Sexta'\n",
    "    WHEN pickup_day_of_week = 7 THEN '7 - Sábado'\n",
    "  END as dia_da_semana,\n",
    "  SUM(faturamento_total) as faturamento\n",
    "FROM\n",
    "  taxi_nyc_schema.taxi_nyc_gold -- <-- NOME DO SCHEMA ATUALIZADO AQUI\n",
    "GROUP BY\n",
    "  pickup_day_of_week\n",
    "ORDER BY\n",
    "  faturamento DESC;"
   ]
  },
  {
   "cell_type": "markdown",
   "metadata": {
    "application/vnd.databricks.v1+cell": {
     "cellMetadata": {},
     "inputWidgets": {},
     "nuid": "0cdb3e5a-9ec3-4bf1-addd-652d4312deb9",
     "showTitle": false,
     "tableResultSettingsMap": {},
     "title": ""
    }
   },
   "source": [
    "- Dias Úteis vs. Fim de Semana"
   ]
  },
  {
   "cell_type": "code",
   "execution_count": 0,
   "metadata": {
    "application/vnd.databricks.v1+cell": {
     "cellMetadata": {
      "byteLimit": 2048000,
      "implicitDf": true,
      "rowLimit": 10000
     },
     "inputWidgets": {},
     "nuid": "2a3d83b0-47ec-4f86-bab0-dc609f69bd5a",
     "showTitle": false,
     "tableResultSettingsMap": {},
     "title": ""
    }
   },
   "outputs": [
    {
     "output_type": "display_data",
     "data": {
      "text/html": [
       "<style scoped>\n",
       "  .table-result-container {\n",
       "    max-height: 300px;\n",
       "    overflow: auto;\n",
       "  }\n",
       "  table, th, td {\n",
       "    border: 1px solid black;\n",
       "    border-collapse: collapse;\n",
       "  }\n",
       "  th, td {\n",
       "    padding: 5px;\n",
       "  }\n",
       "  th {\n",
       "    text-align: left;\n",
       "  }\n",
       "</style><div class='table-result-container'><table class='table-result'><thead style='background-color: white'><tr><th>tipo_de_dia</th><th>hora_embarque</th><th>total_corridas</th></tr></thead><tbody><tr><td>Fim de Semana</td><td>18</td><td>1525</td></tr><tr><td>Fim de Semana</td><td>14</td><td>1471</td></tr><tr><td>Fim de Semana</td><td>15</td><td>1489</td></tr><tr><td>Fim de Semana</td><td>0</td><td>1097</td></tr><tr><td>Fim de Semana</td><td>2</td><td>633</td></tr><tr><td>Fim de Semana</td><td>3</td><td>419</td></tr><tr><td>Fim de Semana</td><td>9</td><td>826</td></tr><tr><td>Fim de Semana</td><td>8</td><td>539</td></tr><tr><td>Fim de Semana</td><td>6</td><td>189</td></tr><tr><td>Fim de Semana</td><td>7</td><td>314</td></tr><tr><td>Fim de Semana</td><td>22</td><td>1097</td></tr><tr><td>Fim de Semana</td><td>20</td><td>1134</td></tr><tr><td>Fim de Semana</td><td>16</td><td>1625</td></tr><tr><td>Fim de Semana</td><td>5</td><td>95</td></tr><tr><td>Fim de Semana</td><td>21</td><td>1098</td></tr><tr><td>Fim de Semana</td><td>12</td><td>1414</td></tr><tr><td>Fim de Semana</td><td>10</td><td>1069</td></tr><tr><td>Fim de Semana</td><td>1</td><td>881</td></tr><tr><td>Fim de Semana</td><td>19</td><td>1355</td></tr><tr><td>Fim de Semana</td><td>11</td><td>1287</td></tr><tr><td>Fim de Semana</td><td>17</td><td>1561</td></tr><tr><td>Fim de Semana</td><td>4</td><td>230</td></tr><tr><td>Fim de Semana</td><td>13</td><td>1545</td></tr><tr><td>Fim de Semana</td><td>23</td><td>903</td></tr><tr><td>Dia Útil</td><td>18</td><td>4958</td></tr><tr><td>Dia Útil</td><td>7</td><td>2605</td></tr><tr><td>Dia Útil</td><td>8</td><td>3449</td></tr><tr><td>Dia Útil</td><td>16</td><td>4481</td></tr><tr><td>Dia Útil</td><td>14</td><td>4410</td></tr><tr><td>Dia Útil</td><td>2</td><td>365</td></tr><tr><td>Dia Útil</td><td>9</td><td>3683</td></tr><tr><td>Dia Útil</td><td>13</td><td>4215</td></tr><tr><td>Dia Útil</td><td>4</td><td>246</td></tr><tr><td>Dia Útil</td><td>6</td><td>1401</td></tr><tr><td>Dia Útil</td><td>15</td><td>4564</td></tr><tr><td>Dia Útil</td><td>1</td><td>596</td></tr><tr><td>Dia Útil</td><td>23</td><td>2219</td></tr><tr><td>Dia Útil</td><td>5</td><td>552</td></tr><tr><td>Dia Útil</td><td>17</td><td>4894</td></tr><tr><td>Dia Útil</td><td>21</td><td>3754</td></tr><tr><td>Dia Útil</td><td>19</td><td>4179</td></tr><tr><td>Dia Útil</td><td>20</td><td>3880</td></tr><tr><td>Dia Útil</td><td>22</td><td>3262</td></tr><tr><td>Dia Útil</td><td>3</td><td>239</td></tr><tr><td>Dia Útil</td><td>0</td><td>1107</td></tr><tr><td>Dia Útil</td><td>12</td><td>4013</td></tr><tr><td>Dia Útil</td><td>10</td><td>3640</td></tr><tr><td>Dia Útil</td><td>11</td><td>3758</td></tr></tbody></table></div>"
      ]
     },
     "metadata": {
      "application/vnd.databricks.v1+output": {
       "addedWidgets": {},
       "aggData": [],
       "aggError": "",
       "aggOverflow": false,
       "aggSchema": [],
       "aggSeriesLimitReached": false,
       "aggType": "",
       "arguments": {},
       "columnCustomDisplayInfos": {},
       "data": [
        [
         "Fim de Semana",
         18,
         1525
        ],
        [
         "Fim de Semana",
         14,
         1471
        ],
        [
         "Fim de Semana",
         15,
         1489
        ],
        [
         "Fim de Semana",
         0,
         1097
        ],
        [
         "Fim de Semana",
         2,
         633
        ],
        [
         "Fim de Semana",
         3,
         419
        ],
        [
         "Fim de Semana",
         9,
         826
        ],
        [
         "Fim de Semana",
         8,
         539
        ],
        [
         "Fim de Semana",
         6,
         189
        ],
        [
         "Fim de Semana",
         7,
         314
        ],
        [
         "Fim de Semana",
         22,
         1097
        ],
        [
         "Fim de Semana",
         20,
         1134
        ],
        [
         "Fim de Semana",
         16,
         1625
        ],
        [
         "Fim de Semana",
         5,
         95
        ],
        [
         "Fim de Semana",
         21,
         1098
        ],
        [
         "Fim de Semana",
         12,
         1414
        ],
        [
         "Fim de Semana",
         10,
         1069
        ],
        [
         "Fim de Semana",
         1,
         881
        ],
        [
         "Fim de Semana",
         19,
         1355
        ],
        [
         "Fim de Semana",
         11,
         1287
        ],
        [
         "Fim de Semana",
         17,
         1561
        ],
        [
         "Fim de Semana",
         4,
         230
        ],
        [
         "Fim de Semana",
         13,
         1545
        ],
        [
         "Fim de Semana",
         23,
         903
        ],
        [
         "Dia Útil",
         18,
         4958
        ],
        [
         "Dia Útil",
         7,
         2605
        ],
        [
         "Dia Útil",
         8,
         3449
        ],
        [
         "Dia Útil",
         16,
         4481
        ],
        [
         "Dia Útil",
         14,
         4410
        ],
        [
         "Dia Útil",
         2,
         365
        ],
        [
         "Dia Útil",
         9,
         3683
        ],
        [
         "Dia Útil",
         13,
         4215
        ],
        [
         "Dia Útil",
         4,
         246
        ],
        [
         "Dia Útil",
         6,
         1401
        ],
        [
         "Dia Útil",
         15,
         4564
        ],
        [
         "Dia Útil",
         1,
         596
        ],
        [
         "Dia Útil",
         23,
         2219
        ],
        [
         "Dia Útil",
         5,
         552
        ],
        [
         "Dia Útil",
         17,
         4894
        ],
        [
         "Dia Útil",
         21,
         3754
        ],
        [
         "Dia Útil",
         19,
         4179
        ],
        [
         "Dia Útil",
         20,
         3880
        ],
        [
         "Dia Útil",
         22,
         3262
        ],
        [
         "Dia Útil",
         3,
         239
        ],
        [
         "Dia Útil",
         0,
         1107
        ],
        [
         "Dia Útil",
         12,
         4013
        ],
        [
         "Dia Útil",
         10,
         3640
        ],
        [
         "Dia Útil",
         11,
         3758
        ]
       ],
       "datasetInfos": [
        {
         "name": "_sqldf",
         "schema": {
          "fields": [
           {
            "metadata": {},
            "name": "tipo_de_dia",
            "nullable": false,
            "type": "string"
           },
           {
            "metadata": {},
            "name": "hora_embarque",
            "nullable": true,
            "type": "integer"
           },
           {
            "metadata": {},
            "name": "total_corridas",
            "nullable": true,
            "type": "long"
           }
          ],
          "type": "struct"
         },
         "tableIdentifier": null,
         "typeStr": "pyspark.sql.connect.dataframe.DataFrame"
        }
       ],
       "dbfsResultPath": null,
       "isJsonSchema": true,
       "metadata": {
        "createTempViewForImplicitDf": true,
        "dataframeName": "_sqldf",
        "executionCount": 51
       },
       "overflow": false,
       "plotOptions": {
        "customPlotOptions": {},
        "displayType": "table",
        "pivotAggregation": null,
        "pivotColumns": null,
        "xColumns": null,
        "yColumns": null
       },
       "removedWidgets": [],
       "schema": [
        {
         "metadata": "{}",
         "name": "tipo_de_dia",
         "type": "\"string\""
        },
        {
         "metadata": "{}",
         "name": "hora_embarque",
         "type": "\"integer\""
        },
        {
         "metadata": "{}",
         "name": "total_corridas",
         "type": "\"long\""
        }
       ],
       "type": "table"
      }
     },
     "output_type": "display_data"
    }
   ],
   "source": [
    "%sql\n",
    "SELECT\n",
    "  CASE \n",
    "    WHEN pickup_day_of_week IN (2, 3, 4, 5, 6) THEN 'Dia Útil'\n",
    "    ELSE 'Fim de Semana'\n",
    "  END AS tipo_de_dia,\n",
    "  pickup_hour as hora_embarque,\n",
    "  SUM(total_de_corridas) as total_corridas\n",
    "FROM\n",
    "  taxi_nyc_schema.taxi_nyc_gold\n",
    "GROUP BY\n",
    "  tipo_de_dia,\n",
    "  pickup_hour\n",
    "ORDER BY\n",
    "  tipo_de_dia DESC;"
   ]
  },
  {
   "cell_type": "code",
   "execution_count": 0,
   "metadata": {
    "application/vnd.databricks.v1+cell": {
     "cellMetadata": {
      "byteLimit": 2048000,
      "implicitDf": true,
      "rowLimit": 10000
     },
     "inputWidgets": {},
     "nuid": "c9d08217-4d14-4ed9-8662-0a9b07ca9f56",
     "showTitle": false,
     "tableResultSettingsMap": {},
     "title": ""
    }
   },
   "outputs": [
    {
     "output_type": "display_data",
     "data": {
      "text/html": [
       "<style scoped>\n",
       "  .table-result-container {\n",
       "    max-height: 300px;\n",
       "    overflow: auto;\n",
       "  }\n",
       "  table, th, td {\n",
       "    border: 1px solid black;\n",
       "    border-collapse: collapse;\n",
       "  }\n",
       "  th, td {\n",
       "    padding: 5px;\n",
       "  }\n",
       "  th {\n",
       "    text-align: left;\n",
       "  }\n",
       "</style><div class='table-result-container'><table class='table-result'><thead style='background-color: white'><tr><th>tipo_de_dia</th><th>hora_embarque</th><th>total_corridas</th></tr></thead><tbody><tr><td>Fim de Semana</td><td>18</td><td>1525</td></tr><tr><td>Fim de Semana</td><td>14</td><td>1471</td></tr><tr><td>Fim de Semana</td><td>15</td><td>1489</td></tr><tr><td>Fim de Semana</td><td>0</td><td>1097</td></tr><tr><td>Fim de Semana</td><td>2</td><td>633</td></tr><tr><td>Fim de Semana</td><td>3</td><td>419</td></tr><tr><td>Fim de Semana</td><td>9</td><td>826</td></tr><tr><td>Fim de Semana</td><td>8</td><td>539</td></tr><tr><td>Fim de Semana</td><td>6</td><td>189</td></tr><tr><td>Fim de Semana</td><td>7</td><td>314</td></tr><tr><td>Fim de Semana</td><td>22</td><td>1097</td></tr><tr><td>Fim de Semana</td><td>20</td><td>1134</td></tr><tr><td>Fim de Semana</td><td>16</td><td>1625</td></tr><tr><td>Fim de Semana</td><td>5</td><td>95</td></tr><tr><td>Fim de Semana</td><td>21</td><td>1098</td></tr><tr><td>Fim de Semana</td><td>12</td><td>1414</td></tr><tr><td>Fim de Semana</td><td>10</td><td>1069</td></tr><tr><td>Fim de Semana</td><td>1</td><td>881</td></tr><tr><td>Fim de Semana</td><td>19</td><td>1355</td></tr><tr><td>Fim de Semana</td><td>11</td><td>1287</td></tr><tr><td>Fim de Semana</td><td>17</td><td>1561</td></tr><tr><td>Fim de Semana</td><td>4</td><td>230</td></tr><tr><td>Fim de Semana</td><td>13</td><td>1545</td></tr><tr><td>Fim de Semana</td><td>23</td><td>903</td></tr><tr><td>Dia Útil</td><td>18</td><td>4958</td></tr><tr><td>Dia Útil</td><td>7</td><td>2605</td></tr><tr><td>Dia Útil</td><td>8</td><td>3449</td></tr><tr><td>Dia Útil</td><td>16</td><td>4481</td></tr><tr><td>Dia Útil</td><td>14</td><td>4410</td></tr><tr><td>Dia Útil</td><td>2</td><td>365</td></tr><tr><td>Dia Útil</td><td>9</td><td>3683</td></tr><tr><td>Dia Útil</td><td>13</td><td>4215</td></tr><tr><td>Dia Útil</td><td>4</td><td>246</td></tr><tr><td>Dia Útil</td><td>6</td><td>1401</td></tr><tr><td>Dia Útil</td><td>15</td><td>4564</td></tr><tr><td>Dia Útil</td><td>1</td><td>596</td></tr><tr><td>Dia Útil</td><td>23</td><td>2219</td></tr><tr><td>Dia Útil</td><td>5</td><td>552</td></tr><tr><td>Dia Útil</td><td>17</td><td>4894</td></tr><tr><td>Dia Útil</td><td>21</td><td>3754</td></tr><tr><td>Dia Útil</td><td>19</td><td>4179</td></tr><tr><td>Dia Útil</td><td>20</td><td>3880</td></tr><tr><td>Dia Útil</td><td>22</td><td>3262</td></tr><tr><td>Dia Útil</td><td>3</td><td>239</td></tr><tr><td>Dia Útil</td><td>0</td><td>1107</td></tr><tr><td>Dia Útil</td><td>12</td><td>4013</td></tr><tr><td>Dia Útil</td><td>10</td><td>3640</td></tr><tr><td>Dia Útil</td><td>11</td><td>3758</td></tr></tbody></table></div>"
      ]
     },
     "metadata": {
      "application/vnd.databricks.v1+output": {
       "addedWidgets": {},
       "aggData": [],
       "aggError": "",
       "aggOverflow": false,
       "aggSchema": [],
       "aggSeriesLimitReached": false,
       "aggType": "",
       "arguments": {},
       "columnCustomDisplayInfos": {},
       "data": [
        [
         "Fim de Semana",
         18,
         1525
        ],
        [
         "Fim de Semana",
         14,
         1471
        ],
        [
         "Fim de Semana",
         15,
         1489
        ],
        [
         "Fim de Semana",
         0,
         1097
        ],
        [
         "Fim de Semana",
         2,
         633
        ],
        [
         "Fim de Semana",
         3,
         419
        ],
        [
         "Fim de Semana",
         9,
         826
        ],
        [
         "Fim de Semana",
         8,
         539
        ],
        [
         "Fim de Semana",
         6,
         189
        ],
        [
         "Fim de Semana",
         7,
         314
        ],
        [
         "Fim de Semana",
         22,
         1097
        ],
        [
         "Fim de Semana",
         20,
         1134
        ],
        [
         "Fim de Semana",
         16,
         1625
        ],
        [
         "Fim de Semana",
         5,
         95
        ],
        [
         "Fim de Semana",
         21,
         1098
        ],
        [
         "Fim de Semana",
         12,
         1414
        ],
        [
         "Fim de Semana",
         10,
         1069
        ],
        [
         "Fim de Semana",
         1,
         881
        ],
        [
         "Fim de Semana",
         19,
         1355
        ],
        [
         "Fim de Semana",
         11,
         1287
        ],
        [
         "Fim de Semana",
         17,
         1561
        ],
        [
         "Fim de Semana",
         4,
         230
        ],
        [
         "Fim de Semana",
         13,
         1545
        ],
        [
         "Fim de Semana",
         23,
         903
        ],
        [
         "Dia Útil",
         18,
         4958
        ],
        [
         "Dia Útil",
         7,
         2605
        ],
        [
         "Dia Útil",
         8,
         3449
        ],
        [
         "Dia Útil",
         16,
         4481
        ],
        [
         "Dia Útil",
         14,
         4410
        ],
        [
         "Dia Útil",
         2,
         365
        ],
        [
         "Dia Útil",
         9,
         3683
        ],
        [
         "Dia Útil",
         13,
         4215
        ],
        [
         "Dia Útil",
         4,
         246
        ],
        [
         "Dia Útil",
         6,
         1401
        ],
        [
         "Dia Útil",
         15,
         4564
        ],
        [
         "Dia Útil",
         1,
         596
        ],
        [
         "Dia Útil",
         23,
         2219
        ],
        [
         "Dia Útil",
         5,
         552
        ],
        [
         "Dia Útil",
         17,
         4894
        ],
        [
         "Dia Útil",
         21,
         3754
        ],
        [
         "Dia Útil",
         19,
         4179
        ],
        [
         "Dia Útil",
         20,
         3880
        ],
        [
         "Dia Útil",
         22,
         3262
        ],
        [
         "Dia Útil",
         3,
         239
        ],
        [
         "Dia Útil",
         0,
         1107
        ],
        [
         "Dia Útil",
         12,
         4013
        ],
        [
         "Dia Útil",
         10,
         3640
        ],
        [
         "Dia Útil",
         11,
         3758
        ]
       ],
       "datasetInfos": [
        {
         "name": "_sqldf",
         "schema": {
          "fields": [
           {
            "metadata": {},
            "name": "tipo_de_dia",
            "nullable": false,
            "type": "string"
           },
           {
            "metadata": {},
            "name": "hora_embarque",
            "nullable": true,
            "type": "integer"
           },
           {
            "metadata": {},
            "name": "total_corridas",
            "nullable": true,
            "type": "long"
           }
          ],
          "type": "struct"
         },
         "tableIdentifier": null,
         "typeStr": "pyspark.sql.connect.dataframe.DataFrame"
        }
       ],
       "dbfsResultPath": null,
       "isJsonSchema": true,
       "metadata": {
        "createTempViewForImplicitDf": true,
        "dataframeName": "_sqldf",
        "executionCount": 52
       },
       "overflow": false,
       "plotOptions": {
        "customPlotOptions": {},
        "displayType": "table",
        "pivotAggregation": null,
        "pivotColumns": null,
        "xColumns": null,
        "yColumns": null
       },
       "removedWidgets": [],
       "schema": [
        {
         "metadata": "{}",
         "name": "tipo_de_dia",
         "type": "\"string\""
        },
        {
         "metadata": "{}",
         "name": "hora_embarque",
         "type": "\"integer\""
        },
        {
         "metadata": "{}",
         "name": "total_corridas",
         "type": "\"long\""
        }
       ],
       "type": "table"
      }
     },
     "output_type": "display_data"
    },
    {
     "output_type": "display_data",
     "data": {
      "text/plain": [
       "Databricks visualization. Run in Databricks to view."
      ]
     },
     "metadata": {
      "application/vnd.databricks.v1.subcommand+json": {
       "baseErrorDetails": null,
       "bindings": {},
       "collapsed": false,
       "command": "%sql WITH q AS (SELECT\n  CASE \n    WHEN pickup_day_of_week IN (2, 3, 4, 5, 6) THEN 'Dia Útil'\n    ELSE 'Fim de Semana'\n  END AS tipo_de_dia,\n  pickup_hour as hora_embarque,\n  SUM(total_de_corridas) as total_corridas\nFROM\n  taxi_nyc_schema.taxi_nyc_gold\nGROUP BY\n  tipo_de_dia,\n  pickup_hour\nORDER BY\n  tipo_de_dia DESC) SELECT `hora_embarque`,`total_corridas`,`tipo_de_dia` FROM q",
       "commandTitle": "Dia útil vs Final de Semana",
       "commandType": "auto",
       "commandVersion": 0,
       "commentThread": [],
       "commentsVisible": false,
       "contentSha256Hex": null,
       "customPlotOptions": {
        "redashChart": [
         {
          "key": "type",
          "value": "CHART"
         },
         {
          "key": "options",
          "value": {
           "alignYAxesAtZero": true,
           "coefficient": 1,
           "columnConfigurationMap": {
            "series": {
             "column": "tipo_de_dia",
             "id": "column_49840a85487"
            },
            "x": {
             "column": "hora_embarque",
             "id": "column_49840a85485"
            },
            "y": [
             {
              "column": "total_corridas",
              "id": "column_49840a85486"
             }
            ]
           },
           "dateTimeFormat": "DD/MM/YYYY HH:mm",
           "direction": {
            "type": "counterclockwise"
           },
           "error_y": {
            "type": "data",
            "visible": true
           },
           "globalSeriesType": "scatter",
           "legend": {
            "traceorder": "normal"
           },
           "missingValuesAsZero": true,
           "numberFormat": "0,0.[00000]",
           "percentFormat": "0[.]00%",
           "series": {
            "error_y": {
             "type": "data",
             "visible": true
            },
            "stacking": null
           },
           "seriesOptions": {
            "Dia Útil": {
             "color": "#FFFACD"
            },
            "Fim de Semana": {
             "color": "#FFAB00"
            },
            "column_49840a85486": {
             "name": "total_corridas",
             "yAxis": 0
            }
           },
           "showDataLabels": false,
           "sizemode": "diameter",
           "sortX": true,
           "sortY": true,
           "swappedAxes": false,
           "textFormat": "",
           "useAggregationsUi": true,
           "valuesOptions": {},
           "version": 2,
           "xAxis": {
            "labels": {
             "enabled": true
            },
            "type": "-"
           },
           "yAxis": [
            {
             "type": "-"
            },
            {
             "opposite": true,
             "type": "-"
            }
           ]
          }
         }
        ]
       },
       "datasetPreviewNameToCmdIdMap": {},
       "diffDeletes": [],
       "diffInserts": [],
       "displayType": "redashChart",
       "error": null,
       "errorDetails": null,
       "errorSummary": null,
       "errorTraceType": null,
       "finishTime": 0,
       "globalVars": {},
       "guid": "",
       "height": "auto",
       "hideCommandCode": false,
       "hideCommandResult": false,
       "iPythonMetadata": null,
       "inputWidgets": {},
       "isLockedInExamMode": false,
       "latestAssumeRoleInfo": null,
       "latestUser": "a user",
       "latestUserId": null,
       "listResultMetadata": null,
       "metadata": {},
       "nuid": "92b75e3c-198e-4375-9934-e8a44d76688b",
       "origId": 0,
       "parentHierarchy": [],
       "pivotAggregation": null,
       "pivotColumns": null,
       "position": 8.9993896484375,
       "resultDbfsErrorMessage": null,
       "resultDbfsStatus": "INLINED_IN_TREE",
       "results": null,
       "showCommandTitle": false,
       "startTime": 0,
       "state": "input",
       "streamStates": {},
       "subcommandOptions": {
        "queryPlan": {
         "selects": [
          {
           "column": "hora_embarque",
           "type": "column"
          },
          {
           "column": "total_corridas",
           "type": "column"
          },
          {
           "column": "tipo_de_dia",
           "type": "column"
          }
         ]
        }
       },
       "submitTime": 0,
       "subtype": "tableResultSubCmd.visualization",
       "tableResultIndex": 0,
       "tableResultSettingsMap": {},
       "useConsistentColors": false,
       "version": "CommandV1",
       "width": "auto",
       "workflows": [],
       "xColumns": null,
       "yColumns": null
      }
     },
     "output_type": "display_data"
    }
   ],
   "source": [
    "%sql\n",
    "SELECT\n",
    "  CASE \n",
    "    WHEN pickup_day_of_week IN (2, 3, 4, 5, 6) THEN 'Dia Útil'\n",
    "    ELSE 'Fim de Semana'\n",
    "  END AS tipo_de_dia,\n",
    "  pickup_hour as hora_embarque,\n",
    "  SUM(total_de_corridas) as total_corridas\n",
    "FROM\n",
    "  taxi_nyc_schema.taxi_nyc_gold\n",
    "GROUP BY\n",
    "  tipo_de_dia,\n",
    "  pickup_hour\n",
    "ORDER BY\n",
    "  tipo_de_dia DESC;"
   ]
  },
  {
   "cell_type": "markdown",
   "metadata": {
    "application/vnd.databricks.v1+cell": {
     "cellMetadata": {},
     "inputWidgets": {},
     "nuid": "8e787c2d-001c-4925-ba47-46a73df67c6f",
     "showTitle": false,
     "tableResultSettingsMap": {},
     "title": ""
    }
   },
   "source": [
    "- Piores Horários para Dirigir"
   ]
  },
  {
   "cell_type": "code",
   "execution_count": 0,
   "metadata": {
    "application/vnd.databricks.v1+cell": {
     "cellMetadata": {
      "byteLimit": 2048000,
      "implicitDf": true,
      "rowLimit": 10000
     },
     "inputWidgets": {},
     "nuid": "f89edcaf-6ed8-4d52-8aa4-3873a97a827a",
     "showTitle": false,
     "tableResultSettingsMap": {},
     "title": ""
    }
   },
   "outputs": [
    {
     "output_type": "display_data",
     "data": {
      "text/html": [
       "<style scoped>\n",
       "  .table-result-container {\n",
       "    max-height: 300px;\n",
       "    overflow: auto;\n",
       "  }\n",
       "  table, th, td {\n",
       "    border: 1px solid black;\n",
       "    border-collapse: collapse;\n",
       "  }\n",
       "  th, td {\n",
       "    padding: 5px;\n",
       "  }\n",
       "  th {\n",
       "    text-align: left;\n",
       "  }\n",
       "</style><div class='table-result-container'><table class='table-result'><thead style='background-color: white'><tr><th>hora_embarque</th><th>duracao_media_min</th><th>velocidade_media</th></tr></thead><tbody><tr><td>17</td><td>17.965714285714288</td><td>8.938571428571429</td></tr><tr><td>15</td><td>20.29714285714286</td><td>8.995714285714284</td></tr><tr><td>13</td><td>18.97714285714286</td><td>9.291428571428572</td></tr><tr><td>12</td><td>18.99285714285714</td><td>9.367142857142856</td></tr><tr><td>18</td><td>15.800000000000002</td><td>9.447142857142856</td></tr><tr><td>16</td><td>20.25857142857143</td><td>9.448571428571428</td></tr><tr><td>14</td><td>19.860000000000003</td><td>9.530000000000001</td></tr><tr><td>10</td><td>17.83857142857143</td><td>10.298571428571426</td></tr><tr><td>19</td><td>14.981428571428571</td><td>10.537142857142857</td></tr><tr><td>9</td><td>17.265714285714285</td><td>10.932857142857143</td></tr><tr><td>8</td><td>17.53857142857143</td><td>11.182857142857143</td></tr><tr><td>20</td><td>14.614285714285712</td><td>11.314285714285715</td></tr><tr><td>21</td><td>14.855714285714285</td><td>11.865714285714287</td></tr><tr><td>22</td><td>14.855714285714285</td><td>12.417142857142858</td></tr><tr><td>23</td><td>15.124285714285714</td><td>13.994285714285715</td></tr><tr><td>6</td><td>19.33285714285714</td><td>15.127142857142857</td></tr><tr><td>0</td><td>14.01857142857143</td><td>15.247142857142858</td></tr><tr><td>1</td><td>13.598571428571429</td><td>15.739999999999998</td></tr><tr><td>2</td><td>13.062857142857142</td><td>15.811428571428573</td></tr><tr><td>5</td><td>21.192857142857143</td><td>17.677142857142858</td></tr><tr><td>3</td><td>13.644285714285715</td><td>18.235714285714288</td></tr><tr><td>11</td><td>18.457142857142856</td><td>30.16</td></tr><tr><td>7</td><td>18.09</td><td>53.01857142857143</td></tr><tr><td>4</td><td>19.562857142857144</td><td>154.3957142857143</td></tr></tbody></table></div>"
      ]
     },
     "metadata": {
      "application/vnd.databricks.v1+output": {
       "addedWidgets": {},
       "aggData": [],
       "aggError": "",
       "aggOverflow": false,
       "aggSchema": [],
       "aggSeriesLimitReached": false,
       "aggType": "",
       "arguments": {},
       "columnCustomDisplayInfos": {},
       "data": [
        [
         17,
         17.965714285714288,
         8.938571428571429
        ],
        [
         15,
         20.29714285714286,
         8.995714285714284
        ],
        [
         13,
         18.97714285714286,
         9.291428571428572
        ],
        [
         12,
         18.99285714285714,
         9.367142857142856
        ],
        [
         18,
         15.800000000000002,
         9.447142857142856
        ],
        [
         16,
         20.25857142857143,
         9.448571428571428
        ],
        [
         14,
         19.860000000000003,
         9.530000000000001
        ],
        [
         10,
         17.83857142857143,
         10.298571428571426
        ],
        [
         19,
         14.981428571428571,
         10.537142857142857
        ],
        [
         9,
         17.265714285714285,
         10.932857142857143
        ],
        [
         8,
         17.53857142857143,
         11.182857142857143
        ],
        [
         20,
         14.614285714285712,
         11.314285714285715
        ],
        [
         21,
         14.855714285714285,
         11.865714285714287
        ],
        [
         22,
         14.855714285714285,
         12.417142857142858
        ],
        [
         23,
         15.124285714285714,
         13.994285714285715
        ],
        [
         6,
         19.33285714285714,
         15.127142857142857
        ],
        [
         0,
         14.01857142857143,
         15.247142857142858
        ],
        [
         1,
         13.598571428571429,
         15.739999999999998
        ],
        [
         2,
         13.062857142857142,
         15.811428571428573
        ],
        [
         5,
         21.192857142857143,
         17.677142857142858
        ],
        [
         3,
         13.644285714285715,
         18.235714285714288
        ],
        [
         11,
         18.457142857142856,
         30.16
        ],
        [
         7,
         18.09,
         53.01857142857143
        ],
        [
         4,
         19.562857142857144,
         154.3957142857143
        ]
       ],
       "datasetInfos": [
        {
         "name": "_sqldf",
         "schema": {
          "fields": [
           {
            "metadata": {},
            "name": "hora_embarque",
            "nullable": true,
            "type": "integer"
           },
           {
            "metadata": {},
            "name": "duracao_media_min",
            "nullable": true,
            "type": "double"
           },
           {
            "metadata": {},
            "name": "velocidade_media",
            "nullable": true,
            "type": "double"
           }
          ],
          "type": "struct"
         },
         "tableIdentifier": null,
         "typeStr": "pyspark.sql.connect.dataframe.DataFrame"
        }
       ],
       "dbfsResultPath": null,
       "isJsonSchema": true,
       "metadata": {
        "createTempViewForImplicitDf": true,
        "dataframeName": "_sqldf",
        "executionCount": 60
       },
       "overflow": false,
       "plotOptions": {
        "customPlotOptions": {},
        "displayType": "table",
        "pivotAggregation": null,
        "pivotColumns": null,
        "xColumns": null,
        "yColumns": null
       },
       "removedWidgets": [],
       "schema": [
        {
         "metadata": "{}",
         "name": "hora_embarque",
         "type": "\"integer\""
        },
        {
         "metadata": "{}",
         "name": "duracao_media_min",
         "type": "\"double\""
        },
        {
         "metadata": "{}",
         "name": "velocidade_media",
         "type": "\"double\""
        }
       ],
       "type": "table"
      }
     },
     "output_type": "display_data"
    }
   ],
   "source": [
    "%sql\n",
    "SELECT\n",
    "  pickup_hour as hora_embarque,\n",
    "  AVG(duracao_media_da_viagem_minutos) AS duracao_media_min,\n",
    "  AVG(velocidade_media_kmh) AS velocidade_media\n",
    "FROM\n",
    "  taxi_nyc_schema.taxi_nyc_gold\n",
    "GROUP BY\n",
    "  pickup_hour \n",
    "ORDER BY\n",
    "  velocidade_media ASC;\n"
   ]
  },
  {
   "cell_type": "code",
   "execution_count": 0,
   "metadata": {
    "application/vnd.databricks.v1+cell": {
     "cellMetadata": {
      "byteLimit": 2048000,
      "implicitDf": true,
      "rowLimit": 10000
     },
     "inputWidgets": {},
     "nuid": "1f7b4704-614f-4596-94e3-a3c0e3045025",
     "showTitle": false,
     "tableResultSettingsMap": {},
     "title": ""
    }
   },
   "outputs": [
    {
     "output_type": "display_data",
     "data": {
      "text/html": [
       "<style scoped>\n",
       "  .table-result-container {\n",
       "    max-height: 300px;\n",
       "    overflow: auto;\n",
       "  }\n",
       "  table, th, td {\n",
       "    border: 1px solid black;\n",
       "    border-collapse: collapse;\n",
       "  }\n",
       "  th, td {\n",
       "    padding: 5px;\n",
       "  }\n",
       "  th {\n",
       "    text-align: left;\n",
       "  }\n",
       "</style><div class='table-result-container'><table class='table-result'><thead style='background-color: white'><tr><th>hora_embarque</th><th>duracao_media_min</th><th>velocidade_media</th></tr></thead><tbody><tr><td>17</td><td>17.965714285714288</td><td>8.938571428571429</td></tr><tr><td>15</td><td>20.29714285714286</td><td>8.995714285714284</td></tr><tr><td>13</td><td>18.97714285714286</td><td>9.291428571428572</td></tr><tr><td>12</td><td>18.99285714285714</td><td>9.367142857142856</td></tr><tr><td>18</td><td>15.800000000000002</td><td>9.447142857142856</td></tr><tr><td>16</td><td>20.25857142857143</td><td>9.448571428571428</td></tr><tr><td>14</td><td>19.860000000000003</td><td>9.530000000000001</td></tr><tr><td>10</td><td>17.83857142857143</td><td>10.298571428571426</td></tr><tr><td>19</td><td>14.981428571428571</td><td>10.537142857142857</td></tr><tr><td>9</td><td>17.265714285714285</td><td>10.932857142857143</td></tr><tr><td>8</td><td>17.53857142857143</td><td>11.182857142857143</td></tr><tr><td>20</td><td>14.614285714285712</td><td>11.314285714285715</td></tr><tr><td>21</td><td>14.855714285714285</td><td>11.865714285714287</td></tr><tr><td>22</td><td>14.855714285714285</td><td>12.417142857142858</td></tr><tr><td>23</td><td>15.124285714285714</td><td>13.994285714285715</td></tr><tr><td>6</td><td>19.33285714285714</td><td>15.127142857142857</td></tr><tr><td>0</td><td>14.01857142857143</td><td>15.247142857142858</td></tr><tr><td>1</td><td>13.598571428571429</td><td>15.739999999999998</td></tr><tr><td>2</td><td>13.062857142857142</td><td>15.811428571428573</td></tr><tr><td>5</td><td>21.192857142857143</td><td>17.677142857142858</td></tr><tr><td>3</td><td>13.644285714285715</td><td>18.235714285714288</td></tr><tr><td>11</td><td>18.457142857142856</td><td>30.16</td></tr><tr><td>7</td><td>18.09</td><td>53.01857142857143</td></tr><tr><td>4</td><td>19.562857142857144</td><td>154.3957142857143</td></tr></tbody></table></div>"
      ]
     },
     "metadata": {
      "application/vnd.databricks.v1+output": {
       "addedWidgets": {},
       "aggData": [],
       "aggError": "",
       "aggOverflow": false,
       "aggSchema": [],
       "aggSeriesLimitReached": false,
       "aggType": "",
       "arguments": {},
       "columnCustomDisplayInfos": {},
       "data": [
        [
         17,
         17.965714285714288,
         8.938571428571429
        ],
        [
         15,
         20.29714285714286,
         8.995714285714284
        ],
        [
         13,
         18.97714285714286,
         9.291428571428572
        ],
        [
         12,
         18.99285714285714,
         9.367142857142856
        ],
        [
         18,
         15.800000000000002,
         9.447142857142856
        ],
        [
         16,
         20.25857142857143,
         9.448571428571428
        ],
        [
         14,
         19.860000000000003,
         9.530000000000001
        ],
        [
         10,
         17.83857142857143,
         10.298571428571426
        ],
        [
         19,
         14.981428571428571,
         10.537142857142857
        ],
        [
         9,
         17.265714285714285,
         10.932857142857143
        ],
        [
         8,
         17.53857142857143,
         11.182857142857143
        ],
        [
         20,
         14.614285714285712,
         11.314285714285715
        ],
        [
         21,
         14.855714285714285,
         11.865714285714287
        ],
        [
         22,
         14.855714285714285,
         12.417142857142858
        ],
        [
         23,
         15.124285714285714,
         13.994285714285715
        ],
        [
         6,
         19.33285714285714,
         15.127142857142857
        ],
        [
         0,
         14.01857142857143,
         15.247142857142858
        ],
        [
         1,
         13.598571428571429,
         15.739999999999998
        ],
        [
         2,
         13.062857142857142,
         15.811428571428573
        ],
        [
         5,
         21.192857142857143,
         17.677142857142858
        ],
        [
         3,
         13.644285714285715,
         18.235714285714288
        ],
        [
         11,
         18.457142857142856,
         30.16
        ],
        [
         7,
         18.09,
         53.01857142857143
        ],
        [
         4,
         19.562857142857144,
         154.3957142857143
        ]
       ],
       "datasetInfos": [
        {
         "name": "_sqldf",
         "schema": {
          "fields": [
           {
            "metadata": {},
            "name": "hora_embarque",
            "nullable": true,
            "type": "integer"
           },
           {
            "metadata": {},
            "name": "duracao_media_min",
            "nullable": true,
            "type": "double"
           },
           {
            "metadata": {},
            "name": "velocidade_media",
            "nullable": true,
            "type": "double"
           }
          ],
          "type": "struct"
         },
         "tableIdentifier": null,
         "typeStr": "pyspark.sql.connect.dataframe.DataFrame"
        }
       ],
       "dbfsResultPath": null,
       "isJsonSchema": true,
       "metadata": {
        "createTempViewForImplicitDf": true,
        "dataframeName": "_sqldf",
        "executionCount": 61
       },
       "overflow": false,
       "plotOptions": {
        "customPlotOptions": {},
        "displayType": "table",
        "pivotAggregation": null,
        "pivotColumns": null,
        "xColumns": null,
        "yColumns": null
       },
       "removedWidgets": [],
       "schema": [
        {
         "metadata": "{}",
         "name": "hora_embarque",
         "type": "\"integer\""
        },
        {
         "metadata": "{}",
         "name": "duracao_media_min",
         "type": "\"double\""
        },
        {
         "metadata": "{}",
         "name": "velocidade_media",
         "type": "\"double\""
        }
       ],
       "type": "table"
      }
     },
     "output_type": "display_data"
    },
    {
     "output_type": "display_data",
     "data": {
      "text/plain": [
       "Databricks visualization. Run in Databricks to view."
      ]
     },
     "metadata": {
      "application/vnd.databricks.v1.subcommand+json": {
       "baseErrorDetails": null,
       "bindings": {},
       "collapsed": false,
       "command": "%sql WITH q AS (SELECT\n  pickup_hour as hora_embarque,\n  AVG(duracao_media_da_viagem_minutos) AS duracao_media_min,\n  AVG(velocidade_media_kmh) AS velocidade_media\nFROM\n  taxi_nyc_schema.taxi_nyc_gold\nGROUP BY\n  pickup_hour \nORDER BY\n  velocidade_media ASC) SELECT `hora_embarque`,MIN(`duracao_media_min`) `column_49840a85511`,MIN(`velocidade_media`) `column_49840a85514` FROM q GROUP BY `hora_embarque`",
       "commandTitle": "Visualization 1",
       "commandType": "auto",
       "commandVersion": 0,
       "commentThread": [],
       "commentsVisible": false,
       "contentSha256Hex": null,
       "customPlotOptions": {
        "redashChart": [
         {
          "key": "type",
          "value": "CHART"
         },
         {
          "key": "options",
          "value": {
           "alignYAxesAtZero": true,
           "coefficient": 1,
           "columnConfigurationMap": {
            "x": {
             "column": "hora_embarque",
             "id": "column_49840a85506"
            },
            "y": [
             {
              "column": "duracao_media_min",
              "id": "column_49840a85511",
              "transform": "MIN"
             },
             {
              "column": "velocidade_media",
              "id": "column_49840a85514",
              "transform": "MIN"
             }
            ]
           },
           "dateTimeFormat": "DD/MM/YYYY HH:mm",
           "direction": {
            "type": "counterclockwise"
           },
           "error_y": {
            "type": "data",
            "visible": true
           },
           "globalSeriesType": "combo",
           "isAggregationOn": true,
           "legend": {
            "traceorder": "normal"
           },
           "missingValuesAsZero": true,
           "numberFormat": "0,0.[00000]",
           "percentFormat": "0[.]00%",
           "series": {
            "error_y": {
             "type": "data",
             "visible": true
            },
            "stacking": null
           },
           "seriesOptions": {
            "column_49840a85508": {
             "type": "column",
             "yAxis": 0
            },
            "column_49840a85511": {
             "type": "line",
             "yAxis": 0
            },
            "column_49840a85514": {
             "type": "line",
             "yAxis": 0
            }
           },
           "showDataLabels": false,
           "sizemode": "diameter",
           "sortX": true,
           "sortY": true,
           "swappedAxes": false,
           "textFormat": "",
           "useAggregationsUi": true,
           "valuesOptions": {},
           "version": 2,
           "xAxis": {
            "labels": {
             "enabled": true
            },
            "type": "-"
           },
           "yAxis": [
            {
             "type": "-"
            },
            {
             "opposite": true,
             "type": "-"
            }
           ]
          }
         }
        ]
       },
       "datasetPreviewNameToCmdIdMap": {},
       "diffDeletes": [],
       "diffInserts": [],
       "displayType": "redashChart",
       "error": null,
       "errorDetails": null,
       "errorSummary": null,
       "errorTraceType": null,
       "finishTime": 0,
       "globalVars": {},
       "guid": "",
       "height": "auto",
       "hideCommandCode": false,
       "hideCommandResult": false,
       "iPythonMetadata": null,
       "inputWidgets": {},
       "isLockedInExamMode": false,
       "latestAssumeRoleInfo": null,
       "latestUser": "a user",
       "latestUserId": null,
       "listResultMetadata": null,
       "metadata": {},
       "nuid": "a457db02-55d5-4f9d-b054-9b9b0e813137",
       "origId": 0,
       "parentHierarchy": [],
       "pivotAggregation": null,
       "pivotColumns": null,
       "position": 8.999496459960938,
       "resultDbfsErrorMessage": null,
       "resultDbfsStatus": "INLINED_IN_TREE",
       "results": null,
       "showCommandTitle": false,
       "startTime": 0,
       "state": "input",
       "streamStates": {},
       "subcommandOptions": {
        "queryPlan": {
         "groups": [
          {
           "column": "hora_embarque",
           "type": "column"
          }
         ],
         "selects": [
          {
           "column": "hora_embarque",
           "type": "column"
          },
          {
           "alias": "column_49840a85511",
           "args": [
            {
             "column": "duracao_media_min",
             "type": "column"
            }
           ],
           "function": "MIN",
           "type": "function"
          },
          {
           "alias": "column_49840a85514",
           "args": [
            {
             "column": "velocidade_media",
             "type": "column"
            }
           ],
           "function": "MIN",
           "type": "function"
          }
         ]
        }
       },
       "submitTime": 0,
       "subtype": "tableResultSubCmd.visualization",
       "tableResultIndex": 0,
       "tableResultSettingsMap": {},
       "useConsistentColors": false,
       "version": "CommandV1",
       "width": "auto",
       "workflows": [],
       "xColumns": null,
       "yColumns": null
      }
     },
     "output_type": "display_data"
    }
   ],
   "source": [
    "%sql\n",
    "SELECT\n",
    "  pickup_hour as hora_embarque,\n",
    "  AVG(duracao_media_da_viagem_minutos) AS duracao_media_min,\n",
    "  AVG(velocidade_media_kmh) AS velocidade_media\n",
    "FROM\n",
    "  taxi_nyc_schema.taxi_nyc_gold\n",
    "GROUP BY\n",
    "  pickup_hour \n",
    "ORDER BY\n",
    "  velocidade_media ASC;\n"
   ]
  },
  {
   "cell_type": "markdown",
   "metadata": {
    "application/vnd.databricks.v1+cell": {
     "cellMetadata": {},
     "inputWidgets": {},
     "nuid": "bd3b920a-add1-4b64-8f3c-aa3f05381363",
     "showTitle": false,
     "tableResultSettingsMap": {},
     "title": ""
    }
   },
   "source": [
    "- Heatmap da Operação"
   ]
  },
  {
   "cell_type": "code",
   "execution_count": 0,
   "metadata": {
    "application/vnd.databricks.v1+cell": {
     "cellMetadata": {
      "byteLimit": 2048000,
      "implicitDf": true,
      "rowLimit": 10000
     },
     "inputWidgets": {},
     "nuid": "80582d8c-d0d4-42ca-8daf-d8fbe5aee6b1",
     "showTitle": false,
     "tableResultSettingsMap": {},
     "title": ""
    }
   },
   "outputs": [
    {
     "output_type": "display_data",
     "data": {
      "text/plain": [
       "Databricks visualization. Run in Databricks to view."
      ]
     },
     "metadata": {
      "application/vnd.databricks.v1.subcommand+json": {
       "baseErrorDetails": null,
       "bindings": {},
       "collapsed": false,
       "command": "%sql WITH q AS (SELECT\n  pickup_hour,\n  CASE\n    WHEN pickup_day_of_week = 1 THEN '1-Dom'\n    WHEN pickup_day_of_week = 2 THEN '2-Seg'\n    WHEN pickup_day_of_week = 3 THEN '3-Ter'\n    WHEN pickup_day_of_week = 4 THEN '4-Qua'\n    WHEN pickup_day_of_week = 5 THEN '5-Qui'\n    WHEN pickup_day_of_week = 6 THEN '6-Sex'\n    WHEN pickup_day_of_week = 7 THEN '7-Sab'\n  END as dia_da_semana,\n  total_de_corridas\nFROM\n  taxi_nyc_schema.taxi_nyc_gold) SELECT `pickup_hour`,`dia_da_semana`,SUM(`total_de_corridas`) `column_49840a85535` FROM q GROUP BY `dia_da_semana`,`pickup_hour`",
       "commandTitle": "- Heatmap da Operação",
       "commandType": "auto",
       "commandVersion": 0,
       "commentThread": [],
       "commentsVisible": false,
       "contentSha256Hex": null,
       "customPlotOptions": {
        "redashChart": [
         {
          "key": "type",
          "value": "CHART"
         },
         {
          "key": "options",
          "value": {
           "alignYAxesAtZero": true,
           "coefficient": 1,
           "colorScheme": "Custom...",
           "columnConfigurationMap": {
            "x": {
             "column": "pickup_hour",
             "id": "column_49840a85529"
            },
            "y": [
             {
              "column": "dia_da_semana",
              "id": "column_49840a85533"
             }
            ],
            "zVal": {
             "column": "total_de_corridas",
             "id": "column_49840a85535",
             "transform": "SUM"
            }
           },
           "dateTimeFormat": "DD/MM/YYYY HH:mm",
           "direction": {
            "type": "counterclockwise"
           },
           "error_y": {
            "type": "data",
            "visible": true
           },
           "globalSeriesType": "heatmap",
           "heatMaxColor": "#FFDB58",
           "heatMinColor": "#FFFFFF",
           "isAggregationOn": true,
           "legend": {
            "traceorder": "normal"
           },
           "missingValuesAsZero": true,
           "numBins": 10,
           "numberFormat": "0,0.[00000]",
           "percentFormat": "0[.]00%",
           "series": {
            "error_y": {
             "type": "data",
             "visible": true
            },
            "stacking": null
           },
           "seriesOptions": {
            "column_49840a85530": {
             "name": "total_de_corridas",
             "type": "heatmap",
             "yAxis": 0
            },
            "column_49840a85532": {
             "type": "heatmap",
             "yAxis": 0
            },
            "column_49840a85533": {
             "type": "heatmap",
             "yAxis": 0
            }
           },
           "showDataLabels": false,
           "sizemode": "diameter",
           "sortX": true,
           "sortY": true,
           "swappedAxes": false,
           "textFormat": "",
           "useAggregationsUi": true,
           "valuesOptions": {},
           "version": 2,
           "xAxis": {
            "labels": {
             "enabled": true
            },
            "type": "-"
           },
           "yAxis": [
            {
             "type": "-"
            },
            {
             "opposite": true,
             "type": "-"
            }
           ]
          }
         }
        ]
       },
       "datasetPreviewNameToCmdIdMap": {},
       "diffDeletes": [],
       "diffInserts": [],
       "displayType": "redashChart",
       "error": null,
       "errorDetails": null,
       "errorSummary": null,
       "errorTraceType": null,
       "finishTime": 0,
       "globalVars": {},
       "guid": "",
       "height": "auto",
       "hideCommandCode": false,
       "hideCommandResult": false,
       "iPythonMetadata": null,
       "inputWidgets": {},
       "isLockedInExamMode": false,
       "latestAssumeRoleInfo": null,
       "latestUser": "a user",
       "latestUserId": null,
       "listResultMetadata": null,
       "metadata": {},
       "nuid": "540362d5-a3fe-4ebb-a7a3-46d9b6df27c4",
       "origId": 0,
       "parentHierarchy": [],
       "pivotAggregation": null,
       "pivotColumns": null,
       "position": -1.0,
       "resultDbfsErrorMessage": null,
       "resultDbfsStatus": "INLINED_IN_TREE",
       "results": null,
       "showCommandTitle": false,
       "startTime": 0,
       "state": "input",
       "streamStates": {},
       "subcommandOptions": {
        "queryPlan": {
         "groups": [
          {
           "column": "pickup_hour",
           "type": "column"
          },
          {
           "column": "dia_da_semana",
           "type": "column"
          }
         ],
         "selects": [
          {
           "column": "pickup_hour",
           "type": "column"
          },
          {
           "column": "dia_da_semana",
           "type": "column"
          },
          {
           "alias": "column_49840a85535",
           "args": [
            {
             "column": "total_de_corridas",
             "type": "column"
            }
           ],
           "function": "SUM",
           "type": "function"
          }
         ]
        }
       },
       "submitTime": 0,
       "subtype": "tableResultSubCmd.visualization",
       "tableResultIndex": 0,
       "tableResultSettingsMap": {},
       "useConsistentColors": false,
       "version": "CommandV1",
       "width": "auto",
       "workflows": [],
       "xColumns": null,
       "yColumns": null
      }
     },
     "output_type": "display_data"
    },
    {
     "output_type": "display_data",
     "data": {
      "text/html": [
       "<style scoped>\n",
       "  .table-result-container {\n",
       "    max-height: 300px;\n",
       "    overflow: auto;\n",
       "  }\n",
       "  table, th, td {\n",
       "    border: 1px solid black;\n",
       "    border-collapse: collapse;\n",
       "  }\n",
       "  th, td {\n",
       "    padding: 5px;\n",
       "  }\n",
       "  th {\n",
       "    text-align: left;\n",
       "  }\n",
       "</style><div class='table-result-container'><table class='table-result'><thead style='background-color: white'><tr><th>pickup_hour</th><th>dia_da_semana</th><th>total_de_corridas</th></tr></thead><tbody><tr><td>4</td><td>5-Qui</td><td>66</td></tr><tr><td>2</td><td>7-Sab</td><td>322</td></tr><tr><td>23</td><td>6-Sex</td><td>637</td></tr><tr><td>7</td><td>7-Sab</td><td>155</td></tr><tr><td>8</td><td>6-Sex</td><td>601</td></tr><tr><td>9</td><td>2-Seg</td><td>665</td></tr><tr><td>7</td><td>1-Dom</td><td>159</td></tr><tr><td>3</td><td>2-Seg</td><td>66</td></tr><tr><td>22</td><td>7-Sab</td><td>690</td></tr><tr><td>3</td><td>7-Sab</td><td>220</td></tr><tr><td>15</td><td>7-Sab</td><td>812</td></tr><tr><td>6</td><td>2-Seg</td><td>243</td></tr><tr><td>18</td><td>3-Ter</td><td>952</td></tr><tr><td>9</td><td>4-Qua</td><td>814</td></tr><tr><td>7</td><td>4-Qua</td><td>562</td></tr><tr><td>3</td><td>6-Sex</td><td>68</td></tr><tr><td>3</td><td>3-Ter</td><td>29</td></tr><tr><td>2</td><td>4-Qua</td><td>49</td></tr><tr><td>20</td><td>6-Sex</td><td>731</td></tr><tr><td>4</td><td>4-Qua</td><td>36</td></tr><tr><td>3</td><td>4-Qua</td><td>39</td></tr><tr><td>8</td><td>5-Qui</td><td>759</td></tr><tr><td>15</td><td>1-Dom</td><td>677</td></tr><tr><td>0</td><td>5-Qui</td><td>251</td></tr><tr><td>9</td><td>3-Ter</td><td>765</td></tr><tr><td>5</td><td>3-Ter</td><td>101</td></tr><tr><td>17</td><td>4-Qua</td><td>1023</td></tr><tr><td>18</td><td>7-Sab</td><td>895</td></tr><tr><td>6</td><td>4-Qua</td><td>267</td></tr><tr><td>6</td><td>1-Dom</td><td>108</td></tr><tr><td>6</td><td>7-Sab</td><td>81</td></tr><tr><td>4</td><td>7-Sab</td><td>118</td></tr><tr><td>8</td><td>2-Seg</td><td>619</td></tr><tr><td>22</td><td>3-Ter</td><td>646</td></tr><tr><td>13</td><td>4-Qua</td><td>840</td></tr><tr><td>20</td><td>2-Seg</td><td>605</td></tr><tr><td>15</td><td>5-Qui</td><td>950</td></tr><tr><td>23</td><td>1-Dom</td><td>231</td></tr><tr><td>23</td><td>4-Qua</td><td>403</td></tr><tr><td>7</td><td>3-Ter</td><td>549</td></tr><tr><td>16</td><td>3-Ter</td><td>884</td></tr><tr><td>14</td><td>5-Qui</td><td>932</td></tr><tr><td>23</td><td>5-Qui</td><td>572</td></tr><tr><td>8</td><td>4-Qua</td><td>743</td></tr><tr><td>1</td><td>3-Ter</td><td>63</td></tr><tr><td>5</td><td>5-Qui</td><td>99</td></tr><tr><td>13</td><td>3-Ter</td><td>875</td></tr><tr><td>4</td><td>1-Dom</td><td>112</td></tr><tr><td>15</td><td>4-Qua</td><td>962</td></tr><tr><td>12</td><td>3-Ter</td><td>787</td></tr><tr><td>16</td><td>1-Dom</td><td>736</td></tr><tr><td>4</td><td>3-Ter</td><td>24</td></tr><tr><td>5</td><td>1-Dom</td><td>50</td></tr><tr><td>20</td><td>7-Sab</td><td>638</td></tr><tr><td>5</td><td>6-Sex</td><td>125</td></tr><tr><td>23</td><td>3-Ter</td><td>344</td></tr><tr><td>21</td><td>1-Dom</td><td>458</td></tr><tr><td>14</td><td>7-Sab</td><td>760</td></tr><tr><td>3</td><td>5-Qui</td><td>37</td></tr><tr><td>20</td><td>4-Qua</td><td>858</td></tr><tr><td>12</td><td>6-Sex</td><td>825</td></tr><tr><td>21</td><td>3-Ter</td><td>761</td></tr><tr><td>13</td><td>2-Seg</td><td>772</td></tr><tr><td>18</td><td>4-Qua</td><td>1022</td></tr><tr><td>19</td><td>6-Sex</td><td>851</td></tr><tr><td>13</td><td>1-Dom</td><td>731</td></tr><tr><td>19</td><td>3-Ter</td><td>812</td></tr><tr><td>0</td><td>7-Sab</td><td>544</td></tr><tr><td>1</td><td>7-Sab</td><td>419</td></tr><tr><td>4</td><td>2-Seg</td><td>56</td></tr><tr><td>1</td><td>6-Sex</td><td>186</td></tr><tr><td>20</td><td>3-Ter</td><td>780</td></tr><tr><td>10</td><td>3-Ter</td><td>720</td></tr><tr><td>21</td><td>6-Sex</td><td>697</td></tr><tr><td>13</td><td>7-Sab</td><td>814</td></tr><tr><td>0</td><td>3-Ter</td><td>172</td></tr><tr><td>7</td><td>5-Qui</td><td>540</td></tr><tr><td>23</td><td>2-Seg</td><td>263</td></tr><tr><td>22</td><td>1-Dom</td><td>407</td></tr><tr><td>21</td><td>7-Sab</td><td>640</td></tr><tr><td>0</td><td>1-Dom</td><td>553</td></tr><tr><td>19</td><td>4-Qua</td><td>925</td></tr><tr><td>9</td><td>5-Qui</td><td>742</td></tr><tr><td>14</td><td>2-Seg</td><td>837</td></tr><tr><td>0</td><td>2-Seg</td><td>206</td></tr><tr><td>19</td><td>5-Qui</td><td>943</td></tr><tr><td>18</td><td>6-Sex</td><td>1058</td></tr><tr><td>19</td><td>7-Sab</td><td>826</td></tr><tr><td>11</td><td>2-Seg</td><td>726</td></tr><tr><td>11</td><td>1-Dom</td><td>598</td></tr><tr><td>11</td><td>4-Qua</td><td>748</td></tr><tr><td>21</td><td>4-Qua</td><td>828</td></tr><tr><td>8</td><td>7-Sab</td><td>295</td></tr><tr><td>16</td><td>6-Sex</td><td>900</td></tr><tr><td>19</td><td>2-Seg</td><td>648</td></tr><tr><td>5</td><td>4-Qua</td><td>103</td></tr><tr><td>17</td><td>3-Ter</td><td>1059</td></tr><tr><td>4</td><td>6-Sex</td><td>64</td></tr><tr><td>17</td><td>5-Qui</td><td>1049</td></tr><tr><td>1</td><td>1-Dom</td><td>462</td></tr><tr><td>13</td><td>5-Qui</td><td>897</td></tr><tr><td>7</td><td>6-Sex</td><td>480</td></tr><tr><td>13</td><td>6-Sex</td><td>831</td></tr><tr><td>22</td><td>2-Seg</td><td>388</td></tr><tr><td>22</td><td>6-Sex</td><td>793</td></tr><tr><td>18</td><td>5-Qui</td><td>1133</td></tr><tr><td>11</td><td>7-Sab</td><td>689</td></tr><tr><td>1</td><td>2-Seg</td><td>129</td></tr><tr><td>17</td><td>1-Dom</td><td>681</td></tr><tr><td>11</td><td>6-Sex</td><td>727</td></tr><tr><td>5</td><td>7-Sab</td><td>45</td></tr><tr><td>8</td><td>3-Ter</td><td>727</td></tr><tr><td>14</td><td>1-Dom</td><td>711</td></tr><tr><td>21</td><td>5-Qui</td><td>880</td></tr><tr><td>2</td><td>2-Seg</td><td>105</td></tr><tr><td>10</td><td>1-Dom</td><td>488</td></tr><tr><td>9</td><td>1-Dom</td><td>404</td></tr><tr><td>20</td><td>1-Dom</td><td>496</td></tr><tr><td>20</td><td>5-Qui</td><td>906</td></tr><tr><td>1</td><td>5-Qui</td><td>134</td></tr><tr><td>8</td><td>1-Dom</td><td>244</td></tr><tr><td>0</td><td>4-Qua</td><td>159</td></tr><tr><td>7</td><td>2-Seg</td><td>474</td></tr><tr><td>10</td><td>7-Sab</td><td>581</td></tr><tr><td>9</td><td>6-Sex</td><td>697</td></tr><tr><td>2</td><td>1-Dom</td><td>311</td></tr><tr><td>2</td><td>5-Qui</td><td>66</td></tr><tr><td>14</td><td>3-Ter</td><td>860</td></tr><tr><td>17</td><td>7-Sab</td><td>880</td></tr><tr><td>2</td><td>6-Sex</td><td>114</td></tr><tr><td>11</td><td>5-Qui</td><td>790</td></tr><tr><td>21</td><td>2-Seg</td><td>588</td></tr><tr><td>16</td><td>4-Qua</td><td>901</td></tr><tr><td>17</td><td>2-Seg</td><td>785</td></tr><tr><td>12</td><td>1-Dom</td><td>662</td></tr><tr><td>15</td><td>2-Seg</td><td>826</td></tr><tr><td>18</td><td>2-Seg</td><td>793</td></tr><tr><td>2</td><td>3-Ter</td><td>31</td></tr><tr><td>12</td><td>2-Seg</td><td>751</td></tr><tr><td>11</td><td>3-Ter</td><td>767</td></tr><tr><td>12</td><td>4-Qua</td><td>826</td></tr><tr><td>9</td><td>7-Sab</td><td>422</td></tr><tr><td>22</td><td>5-Qui</td><td>808</td></tr><tr><td>10</td><td>4-Qua</td><td>764</td></tr><tr><td>23</td><td>7-Sab</td><td>672</td></tr><tr><td>5</td><td>2-Seg</td><td>124</td></tr><tr><td>18</td><td>1-Dom</td><td>630</td></tr><tr><td>10</td><td>5-Qui</td><td>783</td></tr><tr><td>3</td><td>1-Dom</td><td>199</td></tr><tr><td>17</td><td>6-Sex</td><td>978</td></tr><tr><td>14</td><td>6-Sex</td><td>884</td></tr><tr><td>15</td><td>6-Sex</td><td>917</td></tr><tr><td>6</td><td>3-Ter</td><td>322</td></tr><tr><td>0</td><td>6-Sex</td><td>319</td></tr><tr><td>10</td><td>2-Seg</td><td>675</td></tr><tr><td>12</td><td>5-Qui</td><td>824</td></tr><tr><td>22</td><td>4-Qua</td><td>627</td></tr><tr><td>16</td><td>5-Qui</td><td>984</td></tr><tr><td>19</td><td>1-Dom</td><td>529</td></tr><tr><td>10</td><td>6-Sex</td><td>698</td></tr><tr><td>6</td><td>5-Qui</td><td>310</td></tr><tr><td>6</td><td>6-Sex</td><td>259</td></tr><tr><td>14</td><td>4-Qua</td><td>897</td></tr><tr><td>1</td><td>4-Qua</td><td>84</td></tr><tr><td>16</td><td>7-Sab</td><td>889</td></tr><tr><td>15</td><td>3-Ter</td><td>909</td></tr><tr><td>12</td><td>7-Sab</td><td>752</td></tr><tr><td>16</td><td>2-Seg</td><td>812</td></tr></tbody></table></div>"
      ]
     },
     "metadata": {
      "application/vnd.databricks.v1+output": {
       "addedWidgets": {},
       "aggData": [],
       "aggError": "",
       "aggOverflow": false,
       "aggSchema": [],
       "aggSeriesLimitReached": false,
       "aggType": "",
       "arguments": {},
       "columnCustomDisplayInfos": {},
       "data": [
        [
         4,
         "5-Qui",
         66
        ],
        [
         2,
         "7-Sab",
         322
        ],
        [
         23,
         "6-Sex",
         637
        ],
        [
         7,
         "7-Sab",
         155
        ],
        [
         8,
         "6-Sex",
         601
        ],
        [
         9,
         "2-Seg",
         665
        ],
        [
         7,
         "1-Dom",
         159
        ],
        [
         3,
         "2-Seg",
         66
        ],
        [
         22,
         "7-Sab",
         690
        ],
        [
         3,
         "7-Sab",
         220
        ],
        [
         15,
         "7-Sab",
         812
        ],
        [
         6,
         "2-Seg",
         243
        ],
        [
         18,
         "3-Ter",
         952
        ],
        [
         9,
         "4-Qua",
         814
        ],
        [
         7,
         "4-Qua",
         562
        ],
        [
         3,
         "6-Sex",
         68
        ],
        [
         3,
         "3-Ter",
         29
        ],
        [
         2,
         "4-Qua",
         49
        ],
        [
         20,
         "6-Sex",
         731
        ],
        [
         4,
         "4-Qua",
         36
        ],
        [
         3,
         "4-Qua",
         39
        ],
        [
         8,
         "5-Qui",
         759
        ],
        [
         15,
         "1-Dom",
         677
        ],
        [
         0,
         "5-Qui",
         251
        ],
        [
         9,
         "3-Ter",
         765
        ],
        [
         5,
         "3-Ter",
         101
        ],
        [
         17,
         "4-Qua",
         1023
        ],
        [
         18,
         "7-Sab",
         895
        ],
        [
         6,
         "4-Qua",
         267
        ],
        [
         6,
         "1-Dom",
         108
        ],
        [
         6,
         "7-Sab",
         81
        ],
        [
         4,
         "7-Sab",
         118
        ],
        [
         8,
         "2-Seg",
         619
        ],
        [
         22,
         "3-Ter",
         646
        ],
        [
         13,
         "4-Qua",
         840
        ],
        [
         20,
         "2-Seg",
         605
        ],
        [
         15,
         "5-Qui",
         950
        ],
        [
         23,
         "1-Dom",
         231
        ],
        [
         23,
         "4-Qua",
         403
        ],
        [
         7,
         "3-Ter",
         549
        ],
        [
         16,
         "3-Ter",
         884
        ],
        [
         14,
         "5-Qui",
         932
        ],
        [
         23,
         "5-Qui",
         572
        ],
        [
         8,
         "4-Qua",
         743
        ],
        [
         1,
         "3-Ter",
         63
        ],
        [
         5,
         "5-Qui",
         99
        ],
        [
         13,
         "3-Ter",
         875
        ],
        [
         4,
         "1-Dom",
         112
        ],
        [
         15,
         "4-Qua",
         962
        ],
        [
         12,
         "3-Ter",
         787
        ],
        [
         16,
         "1-Dom",
         736
        ],
        [
         4,
         "3-Ter",
         24
        ],
        [
         5,
         "1-Dom",
         50
        ],
        [
         20,
         "7-Sab",
         638
        ],
        [
         5,
         "6-Sex",
         125
        ],
        [
         23,
         "3-Ter",
         344
        ],
        [
         21,
         "1-Dom",
         458
        ],
        [
         14,
         "7-Sab",
         760
        ],
        [
         3,
         "5-Qui",
         37
        ],
        [
         20,
         "4-Qua",
         858
        ],
        [
         12,
         "6-Sex",
         825
        ],
        [
         21,
         "3-Ter",
         761
        ],
        [
         13,
         "2-Seg",
         772
        ],
        [
         18,
         "4-Qua",
         1022
        ],
        [
         19,
         "6-Sex",
         851
        ],
        [
         13,
         "1-Dom",
         731
        ],
        [
         19,
         "3-Ter",
         812
        ],
        [
         0,
         "7-Sab",
         544
        ],
        [
         1,
         "7-Sab",
         419
        ],
        [
         4,
         "2-Seg",
         56
        ],
        [
         1,
         "6-Sex",
         186
        ],
        [
         20,
         "3-Ter",
         780
        ],
        [
         10,
         "3-Ter",
         720
        ],
        [
         21,
         "6-Sex",
         697
        ],
        [
         13,
         "7-Sab",
         814
        ],
        [
         0,
         "3-Ter",
         172
        ],
        [
         7,
         "5-Qui",
         540
        ],
        [
         23,
         "2-Seg",
         263
        ],
        [
         22,
         "1-Dom",
         407
        ],
        [
         21,
         "7-Sab",
         640
        ],
        [
         0,
         "1-Dom",
         553
        ],
        [
         19,
         "4-Qua",
         925
        ],
        [
         9,
         "5-Qui",
         742
        ],
        [
         14,
         "2-Seg",
         837
        ],
        [
         0,
         "2-Seg",
         206
        ],
        [
         19,
         "5-Qui",
         943
        ],
        [
         18,
         "6-Sex",
         1058
        ],
        [
         19,
         "7-Sab",
         826
        ],
        [
         11,
         "2-Seg",
         726
        ],
        [
         11,
         "1-Dom",
         598
        ],
        [
         11,
         "4-Qua",
         748
        ],
        [
         21,
         "4-Qua",
         828
        ],
        [
         8,
         "7-Sab",
         295
        ],
        [
         16,
         "6-Sex",
         900
        ],
        [
         19,
         "2-Seg",
         648
        ],
        [
         5,
         "4-Qua",
         103
        ],
        [
         17,
         "3-Ter",
         1059
        ],
        [
         4,
         "6-Sex",
         64
        ],
        [
         17,
         "5-Qui",
         1049
        ],
        [
         1,
         "1-Dom",
         462
        ],
        [
         13,
         "5-Qui",
         897
        ],
        [
         7,
         "6-Sex",
         480
        ],
        [
         13,
         "6-Sex",
         831
        ],
        [
         22,
         "2-Seg",
         388
        ],
        [
         22,
         "6-Sex",
         793
        ],
        [
         18,
         "5-Qui",
         1133
        ],
        [
         11,
         "7-Sab",
         689
        ],
        [
         1,
         "2-Seg",
         129
        ],
        [
         17,
         "1-Dom",
         681
        ],
        [
         11,
         "6-Sex",
         727
        ],
        [
         5,
         "7-Sab",
         45
        ],
        [
         8,
         "3-Ter",
         727
        ],
        [
         14,
         "1-Dom",
         711
        ],
        [
         21,
         "5-Qui",
         880
        ],
        [
         2,
         "2-Seg",
         105
        ],
        [
         10,
         "1-Dom",
         488
        ],
        [
         9,
         "1-Dom",
         404
        ],
        [
         20,
         "1-Dom",
         496
        ],
        [
         20,
         "5-Qui",
         906
        ],
        [
         1,
         "5-Qui",
         134
        ],
        [
         8,
         "1-Dom",
         244
        ],
        [
         0,
         "4-Qua",
         159
        ],
        [
         7,
         "2-Seg",
         474
        ],
        [
         10,
         "7-Sab",
         581
        ],
        [
         9,
         "6-Sex",
         697
        ],
        [
         2,
         "1-Dom",
         311
        ],
        [
         2,
         "5-Qui",
         66
        ],
        [
         14,
         "3-Ter",
         860
        ],
        [
         17,
         "7-Sab",
         880
        ],
        [
         2,
         "6-Sex",
         114
        ],
        [
         11,
         "5-Qui",
         790
        ],
        [
         21,
         "2-Seg",
         588
        ],
        [
         16,
         "4-Qua",
         901
        ],
        [
         17,
         "2-Seg",
         785
        ],
        [
         12,
         "1-Dom",
         662
        ],
        [
         15,
         "2-Seg",
         826
        ],
        [
         18,
         "2-Seg",
         793
        ],
        [
         2,
         "3-Ter",
         31
        ],
        [
         12,
         "2-Seg",
         751
        ],
        [
         11,
         "3-Ter",
         767
        ],
        [
         12,
         "4-Qua",
         826
        ],
        [
         9,
         "7-Sab",
         422
        ],
        [
         22,
         "5-Qui",
         808
        ],
        [
         10,
         "4-Qua",
         764
        ],
        [
         23,
         "7-Sab",
         672
        ],
        [
         5,
         "2-Seg",
         124
        ],
        [
         18,
         "1-Dom",
         630
        ],
        [
         10,
         "5-Qui",
         783
        ],
        [
         3,
         "1-Dom",
         199
        ],
        [
         17,
         "6-Sex",
         978
        ],
        [
         14,
         "6-Sex",
         884
        ],
        [
         15,
         "6-Sex",
         917
        ],
        [
         6,
         "3-Ter",
         322
        ],
        [
         0,
         "6-Sex",
         319
        ],
        [
         10,
         "2-Seg",
         675
        ],
        [
         12,
         "5-Qui",
         824
        ],
        [
         22,
         "4-Qua",
         627
        ],
        [
         16,
         "5-Qui",
         984
        ],
        [
         19,
         "1-Dom",
         529
        ],
        [
         10,
         "6-Sex",
         698
        ],
        [
         6,
         "5-Qui",
         310
        ],
        [
         6,
         "6-Sex",
         259
        ],
        [
         14,
         "4-Qua",
         897
        ],
        [
         1,
         "4-Qua",
         84
        ],
        [
         16,
         "7-Sab",
         889
        ],
        [
         15,
         "3-Ter",
         909
        ],
        [
         12,
         "7-Sab",
         752
        ],
        [
         16,
         "2-Seg",
         812
        ]
       ],
       "datasetInfos": [
        {
         "name": "_sqldf",
         "schema": {
          "fields": [
           {
            "metadata": {},
            "name": "pickup_hour",
            "nullable": true,
            "type": "integer"
           },
           {
            "metadata": {},
            "name": "dia_da_semana",
            "nullable": true,
            "type": "string"
           },
           {
            "metadata": {},
            "name": "total_de_corridas",
            "nullable": true,
            "type": "long"
           }
          ],
          "type": "struct"
         },
         "tableIdentifier": null,
         "typeStr": "pyspark.sql.connect.dataframe.DataFrame"
        }
       ],
       "dbfsResultPath": null,
       "isJsonSchema": true,
       "metadata": {
        "createTempViewForImplicitDf": true,
        "dataframeName": "_sqldf",
        "executionCount": 69
       },
       "overflow": false,
       "plotOptions": {
        "customPlotOptions": {},
        "displayType": "table",
        "pivotAggregation": null,
        "pivotColumns": null,
        "xColumns": null,
        "yColumns": null
       },
       "removedWidgets": [],
       "schema": [
        {
         "metadata": "{}",
         "name": "pickup_hour",
         "type": "\"integer\""
        },
        {
         "metadata": "{}",
         "name": "dia_da_semana",
         "type": "\"string\""
        },
        {
         "metadata": "{}",
         "name": "total_de_corridas",
         "type": "\"long\""
        }
       ],
       "type": "table"
      }
     },
     "output_type": "display_data"
    }
   ],
   "source": [
    "%sql\n",
    "SELECT\n",
    "  pickup_hour,\n",
    "  CASE\n",
    "    WHEN pickup_day_of_week = 1 THEN '1-Dom'\n",
    "    WHEN pickup_day_of_week = 2 THEN '2-Seg'\n",
    "    WHEN pickup_day_of_week = 3 THEN '3-Ter'\n",
    "    WHEN pickup_day_of_week = 4 THEN '4-Qua'\n",
    "    WHEN pickup_day_of_week = 5 THEN '5-Qui'\n",
    "    WHEN pickup_day_of_week = 6 THEN '6-Sex'\n",
    "    WHEN pickup_day_of_week = 7 THEN '7-Sab'\n",
    "  END as dia_da_semana,\n",
    "  total_de_corridas\n",
    "FROM\n",
    "  taxi_nyc_schema.taxi_nyc_gold"
   ]
  },
  {
   "cell_type": "markdown",
   "metadata": {
    "application/vnd.databricks.v1+cell": {
     "cellMetadata": {},
     "inputWidgets": {},
     "nuid": "d704bcb3-fdd8-4609-b518-f104002e5442",
     "showTitle": false,
     "tableResultSettingsMap": {},
     "title": ""
    }
   },
   "source": [
    "## MACHINE LEARNING (AMOSTA 100MIL CORRIDAS):"
   ]
  },
  {
   "cell_type": "markdown",
   "metadata": {
    "application/vnd.databricks.v1+cell": {
     "cellMetadata": {},
     "inputWidgets": {},
     "nuid": "d8f9abd9-1eef-4d5f-83d9-1385338a55b5",
     "showTitle": false,
     "tableResultSettingsMap": {},
     "title": ""
    }
   },
   "source": [
    "#### Ensinar um modelo a prever a coluna trip_duration_minutes com base em outras características da corrida com SCIKIT-LEARN"
   ]
  },
  {
   "cell_type": "markdown",
   "metadata": {
    "application/vnd.databricks.v1+cell": {
     "cellMetadata": {},
     "inputWidgets": {},
     "nuid": "0020ddf5-419e-40dc-8b26-03412dcc204a",
     "showTitle": false,
     "tableResultSettingsMap": {},
     "title": ""
    }
   },
   "source": [
    "**MODELO DE ML:** Regressão Linear\n"
   ]
  },
  {
   "cell_type": "markdown",
   "metadata": {
    "application/vnd.databricks.v1+cell": {
     "cellMetadata": {},
     "inputWidgets": {},
     "nuid": "179b34d1-c5f4-4257-a962-5a00bf84bf33",
     "showTitle": false,
     "tableResultSettingsMap": {},
     "title": ""
    }
   },
   "source": [
    "- Carregando os Dados e Convertendo para Pandas."
   ]
  },
  {
   "cell_type": "code",
   "execution_count": 0,
   "metadata": {
    "application/vnd.databricks.v1+cell": {
     "cellMetadata": {
      "byteLimit": 2048000,
      "rowLimit": 10000
     },
     "inputWidgets": {},
     "nuid": "fd1482c8-5a57-4964-ac3c-ce92241a5d09",
     "showTitle": false,
     "tableResultSettingsMap": {},
     "title": ""
    }
   },
   "outputs": [],
   "source": [
    "spark_df = spark.table(\"taxi_nyc_schema.taxi_nyc_silver\").select(\n",
    "    \"pickup_hour\",\n",
    "    \"pickup_day_of_week\",\n",
    "    \"trip_distance\",\n",
    "    \"passenger_count\",\n",
    "    \"trip_duration_minutes\"\n",
    ").na.drop()\n",
    "\n",
    "pandas_df = spark_df.limit(100000).toPandas()"
   ]
  },
  {
   "cell_type": "markdown",
   "metadata": {
    "application/vnd.databricks.v1+cell": {
     "cellMetadata": {},
     "inputWidgets": {},
     "nuid": "cd40917e-bdfc-422c-8088-8571a60fcb3b",
     "showTitle": false,
     "tableResultSettingsMap": {},
     "title": ""
    }
   },
   "source": [
    "- Preparando os Features:"
   ]
  },
  {
   "cell_type": "code",
   "execution_count": 0,
   "metadata": {
    "application/vnd.databricks.v1+cell": {
     "cellMetadata": {
      "byteLimit": 2048000,
      "rowLimit": 10000
     },
     "inputWidgets": {},
     "nuid": "21eaa6dc-f2d1-4261-9537-434664d2b2c1",
     "showTitle": false,
     "tableResultSettingsMap": {},
     "title": ""
    }
   },
   "outputs": [],
   "source": [
    "from sklearn.model_selection import train_test_split\n",
    "from sklearn.linear_model import LinearRegression\n",
    "from sklearn.metrics import mean_squared_error, r2_score\n",
    "import numpy as np\n",
    "\n",
    "X = pandas_df[[\"pickup_hour\", \"pickup_day_of_week\", \"trip_distance\", \"passenger_count\"]]\n",
    "y = pandas_df[\"trip_duration_minutes\"]"
   ]
  },
  {
   "cell_type": "markdown",
   "metadata": {
    "application/vnd.databricks.v1+cell": {
     "cellMetadata": {},
     "inputWidgets": {},
     "nuid": "4d85d66c-99b6-4cbb-a27f-c2dafa04c9ea",
     "showTitle": false,
     "tableResultSettingsMap": {},
     "title": ""
    }
   },
   "source": [
    "- Dividindo o Teste e Treinando o Modelo de Regressão Linear:"
   ]
  },
  {
   "cell_type": "code",
   "execution_count": 0,
   "metadata": {
    "application/vnd.databricks.v1+cell": {
     "cellMetadata": {
      "byteLimit": 2048000,
      "rowLimit": 10000
     },
     "inputWidgets": {},
     "nuid": "44810c0b-bb3b-4b88-84a8-d1ab58d54de8",
     "showTitle": false,
     "tableResultSettingsMap": {},
     "title": ""
    }
   },
   "outputs": [
    {
     "output_type": "execute_result",
     "data": {
      "text/html": [
       "<style>#sk-container-id-1 {color: black;}#sk-container-id-1 pre{padding: 0;}#sk-container-id-1 div.sk-toggleable {background-color: white;}#sk-container-id-1 label.sk-toggleable__label {cursor: pointer;display: block;width: 100%;margin-bottom: 0;padding: 0.3em;box-sizing: border-box;text-align: center;}#sk-container-id-1 label.sk-toggleable__label-arrow:before {content: \"▸\";float: left;margin-right: 0.25em;color: #696969;}#sk-container-id-1 label.sk-toggleable__label-arrow:hover:before {color: black;}#sk-container-id-1 div.sk-estimator:hover label.sk-toggleable__label-arrow:before {color: black;}#sk-container-id-1 div.sk-toggleable__content {max-height: 0;max-width: 0;overflow: hidden;text-align: left;background-color: #f0f8ff;}#sk-container-id-1 div.sk-toggleable__content pre {margin: 0.2em;color: black;border-radius: 0.25em;background-color: #f0f8ff;}#sk-container-id-1 input.sk-toggleable__control:checked~div.sk-toggleable__content {max-height: 200px;max-width: 100%;overflow: auto;}#sk-container-id-1 input.sk-toggleable__control:checked~label.sk-toggleable__label-arrow:before {content: \"▾\";}#sk-container-id-1 div.sk-estimator input.sk-toggleable__control:checked~label.sk-toggleable__label {background-color: #d4ebff;}#sk-container-id-1 div.sk-label input.sk-toggleable__control:checked~label.sk-toggleable__label {background-color: #d4ebff;}#sk-container-id-1 input.sk-hidden--visually {border: 0;clip: rect(1px 1px 1px 1px);clip: rect(1px, 1px, 1px, 1px);height: 1px;margin: -1px;overflow: hidden;padding: 0;position: absolute;width: 1px;}#sk-container-id-1 div.sk-estimator {font-family: monospace;background-color: #f0f8ff;border: 1px dotted black;border-radius: 0.25em;box-sizing: border-box;margin-bottom: 0.5em;}#sk-container-id-1 div.sk-estimator:hover {background-color: #d4ebff;}#sk-container-id-1 div.sk-parallel-item::after {content: \"\";width: 100%;border-bottom: 1px solid gray;flex-grow: 1;}#sk-container-id-1 div.sk-label:hover label.sk-toggleable__label {background-color: #d4ebff;}#sk-container-id-1 div.sk-serial::before {content: \"\";position: absolute;border-left: 1px solid gray;box-sizing: border-box;top: 0;bottom: 0;left: 50%;z-index: 0;}#sk-container-id-1 div.sk-serial {display: flex;flex-direction: column;align-items: center;background-color: white;padding-right: 0.2em;padding-left: 0.2em;position: relative;}#sk-container-id-1 div.sk-item {position: relative;z-index: 1;}#sk-container-id-1 div.sk-parallel {display: flex;align-items: stretch;justify-content: center;background-color: white;position: relative;}#sk-container-id-1 div.sk-item::before, #sk-container-id-1 div.sk-parallel-item::before {content: \"\";position: absolute;border-left: 1px solid gray;box-sizing: border-box;top: 0;bottom: 0;left: 50%;z-index: -1;}#sk-container-id-1 div.sk-parallel-item {display: flex;flex-direction: column;z-index: 1;position: relative;background-color: white;}#sk-container-id-1 div.sk-parallel-item:first-child::after {align-self: flex-end;width: 50%;}#sk-container-id-1 div.sk-parallel-item:last-child::after {align-self: flex-start;width: 50%;}#sk-container-id-1 div.sk-parallel-item:only-child::after {width: 0;}#sk-container-id-1 div.sk-dashed-wrapped {border: 1px dashed gray;margin: 0 0.4em 0.5em 0.4em;box-sizing: border-box;padding-bottom: 0.4em;background-color: white;}#sk-container-id-1 div.sk-label label {font-family: monospace;font-weight: bold;display: inline-block;line-height: 1.2em;}#sk-container-id-1 div.sk-label-container {text-align: center;}#sk-container-id-1 div.sk-container {/* jupyter's `normalize.less` sets `[hidden] { display: none; }` but bootstrap.min.css set `[hidden] { display: none !important; }` so we also need the `!important` here to be able to override the default hidden behavior on the sphinx rendered scikit-learn.org. See: https://github.com/scikit-learn/scikit-learn/issues/21755 */display: inline-block !important;position: relative;}#sk-container-id-1 div.sk-text-repr-fallback {display: none;}</style><div id=\"sk-container-id-1\" class=\"sk-top-container\"><div class=\"sk-text-repr-fallback\"><pre>LinearRegression()</pre><b>In a Jupyter environment, please rerun this cell to show the HTML representation or trust the notebook. <br />On GitHub, the HTML representation is unable to render, please try loading this page with nbviewer.org.</b></div><div class=\"sk-container\" hidden><div class=\"sk-item\"><div class=\"sk-estimator sk-toggleable\"><input class=\"sk-toggleable__control sk-hidden--visually\" id=\"sk-estimator-id-1\" type=\"checkbox\" checked><label for=\"sk-estimator-id-1\" class=\"sk-toggleable__label sk-toggleable__label-arrow\">LinearRegression</label><div class=\"sk-toggleable__content\"><pre>LinearRegression()</pre></div></div></div></div></div>"
      ],
      "text/plain": [
       "LinearRegression()"
      ]
     },
     "execution_count": 11,
     "metadata": {},
     "output_type": "execute_result"
    }
   ],
   "source": [
    "X_train, X_test, y_train, y_test = train_test_split(X, y, test_size=0.2, random_state=42)\n",
    "\n",
    "lr_sklearn = LinearRegression()\n",
    "lr_sklearn.fit(X_train, y_train)\n"
   ]
  },
  {
   "cell_type": "markdown",
   "metadata": {
    "application/vnd.databricks.v1+cell": {
     "cellMetadata": {},
     "inputWidgets": {},
     "nuid": "dec36376-09a2-44a3-8932-7406ee3694ac",
     "showTitle": false,
     "tableResultSettingsMap": {},
     "title": ""
    }
   },
   "source": [
    "- Previsão e Avaliação de Acurária:]"
   ]
  },
  {
   "cell_type": "code",
   "execution_count": 0,
   "metadata": {
    "application/vnd.databricks.v1+cell": {
     "cellMetadata": {
      "byteLimit": 2048000,
      "rowLimit": 10000
     },
     "inputWidgets": {},
     "nuid": "1803b707-475e-411a-a7a5-a5b221fd164c",
     "showTitle": false,
     "tableResultSettingsMap": {},
     "title": ""
    }
   },
   "outputs": [],
   "source": [
    "predictions = lr_sklearn.predict(X_test)\n",
    "\n",
    "rmse = np.sqrt(mean_squared_error(y_test, predictions))\n",
    "r2 = r2_score(y_test, predictions)\n"
   ]
  },
  {
   "cell_type": "markdown",
   "metadata": {
    "application/vnd.databricks.v1+cell": {
     "cellMetadata": {},
     "inputWidgets": {},
     "nuid": "6399b0d3-5f11-4b36-8782-4d1b995392cd",
     "showTitle": false,
     "tableResultSettingsMap": {},
     "title": ""
    }
   },
   "source": [
    "- Resultado da Regressão Linear (AMOSTRA):\n"
   ]
  },
  {
   "cell_type": "code",
   "execution_count": 0,
   "metadata": {
    "application/vnd.databricks.v1+cell": {
     "cellMetadata": {
      "byteLimit": 2048000,
      "rowLimit": 10000
     },
     "inputWidgets": {},
     "nuid": "8468754a-5fc9-4a43-8f0d-90a89f4fc5b6",
     "showTitle": false,
     "tableResultSettingsMap": {},
     "title": ""
    }
   },
   "outputs": [
    {
     "output_type": "stream",
     "name": "stdout",
     "output_type": "stream",
     "text": [
      "Modelo Scikit-learn treinado!\nRMSE: 15.71 minutos\nR²: -0.38%\n"
     ]
    }
   ],
   "source": [
    "print(f\"Modelo Scikit-learn treinado!\")\n",
    "print(f\"RMSE: {rmse:.2f} minutos\")\n",
    "print(f\"R²: {r2:.2%}\")"
   ]
  },
  {
   "cell_type": "markdown",
   "metadata": {
    "application/vnd.databricks.v1+cell": {
     "cellMetadata": {},
     "inputWidgets": {},
     "nuid": "c5b6a023-7aa8-432a-948c-96f47462273c",
     "showTitle": false,
     "tableResultSettingsMap": {},
     "title": ""
    }
   },
   "source": [
    "RMSE: Ele pode errar até 15.71min pra mais ou pra menos do que a duração da viagem!\n",
    "\n",
    "Um R² negativo (o seu caso) significa que o seu modelo é PIOR do que um simples chute na média. Ele está ativamente fazendo previsões ruins. POR ISSO, vamos treinar OUTRO modelo e avaliar novamente:\n"
   ]
  },
  {
   "cell_type": "markdown",
   "metadata": {
    "application/vnd.databricks.v1+cell": {
     "cellMetadata": {},
     "inputWidgets": {},
     "nuid": "8eb92d6e-3695-479c-9c19-586c3c263841",
     "showTitle": false,
     "tableResultSettingsMap": {},
     "title": ""
    }
   },
   "source": [
    "**MODELO DE ML:** Random Forest"
   ]
  },
  {
   "cell_type": "markdown",
   "metadata": {
    "application/vnd.databricks.v1+cell": {
     "cellMetadata": {},
     "inputWidgets": {},
     "nuid": "409d073b-331d-449b-bafd-1eafb8e7d855",
     "showTitle": false,
     "tableResultSettingsMap": {},
     "title": ""
    }
   },
   "source": [
    "n_estimators=50 significa que ele usará 50 \"árvores de decisão\" para votar na melhor previsão.\n",
    "n_jobs=-1 usa todos os processadores disponíveis para acelerar o treinamento."
   ]
  },
  {
   "cell_type": "code",
   "execution_count": 0,
   "metadata": {
    "application/vnd.databricks.v1+cell": {
     "cellMetadata": {
      "byteLimit": 2048000,
      "rowLimit": 10000
     },
     "inputWidgets": {},
     "nuid": "c3866b17-a0eb-4cd6-8344-6c7149f05323",
     "showTitle": false,
     "tableResultSettingsMap": {},
     "title": ""
    }
   },
   "outputs": [],
   "source": [
    "from sklearn.ensemble import RandomForestRegressor\n",
    "from sklearn.metrics import mean_squared_error, r2_score\n",
    "import numpy as np\n",
    "rf_model = RandomForestRegressor(n_estimators=50, random_state=42, n_jobs=-1)"
   ]
  },
  {
   "cell_type": "markdown",
   "metadata": {
    "application/vnd.databricks.v1+cell": {
     "cellMetadata": {},
     "inputWidgets": {},
     "nuid": "c4a5be4c-7970-4a26-baa3-59d53340f433",
     "showTitle": false,
     "tableResultSettingsMap": {},
     "title": ""
    }
   },
   "source": [
    "- Treindo Modelo:"
   ]
  },
  {
   "cell_type": "code",
   "execution_count": 0,
   "metadata": {
    "application/vnd.databricks.v1+cell": {
     "cellMetadata": {
      "byteLimit": 2048000,
      "rowLimit": 10000
     },
     "inputWidgets": {},
     "nuid": "8e2a9d71-1766-49ac-b400-b7edff2f273a",
     "showTitle": false,
     "tableResultSettingsMap": {},
     "title": ""
    }
   },
   "outputs": [
    {
     "output_type": "execute_result",
     "data": {
      "text/html": [
       "<style>#sk-container-id-2 {color: black;}#sk-container-id-2 pre{padding: 0;}#sk-container-id-2 div.sk-toggleable {background-color: white;}#sk-container-id-2 label.sk-toggleable__label {cursor: pointer;display: block;width: 100%;margin-bottom: 0;padding: 0.3em;box-sizing: border-box;text-align: center;}#sk-container-id-2 label.sk-toggleable__label-arrow:before {content: \"▸\";float: left;margin-right: 0.25em;color: #696969;}#sk-container-id-2 label.sk-toggleable__label-arrow:hover:before {color: black;}#sk-container-id-2 div.sk-estimator:hover label.sk-toggleable__label-arrow:before {color: black;}#sk-container-id-2 div.sk-toggleable__content {max-height: 0;max-width: 0;overflow: hidden;text-align: left;background-color: #f0f8ff;}#sk-container-id-2 div.sk-toggleable__content pre {margin: 0.2em;color: black;border-radius: 0.25em;background-color: #f0f8ff;}#sk-container-id-2 input.sk-toggleable__control:checked~div.sk-toggleable__content {max-height: 200px;max-width: 100%;overflow: auto;}#sk-container-id-2 input.sk-toggleable__control:checked~label.sk-toggleable__label-arrow:before {content: \"▾\";}#sk-container-id-2 div.sk-estimator input.sk-toggleable__control:checked~label.sk-toggleable__label {background-color: #d4ebff;}#sk-container-id-2 div.sk-label input.sk-toggleable__control:checked~label.sk-toggleable__label {background-color: #d4ebff;}#sk-container-id-2 input.sk-hidden--visually {border: 0;clip: rect(1px 1px 1px 1px);clip: rect(1px, 1px, 1px, 1px);height: 1px;margin: -1px;overflow: hidden;padding: 0;position: absolute;width: 1px;}#sk-container-id-2 div.sk-estimator {font-family: monospace;background-color: #f0f8ff;border: 1px dotted black;border-radius: 0.25em;box-sizing: border-box;margin-bottom: 0.5em;}#sk-container-id-2 div.sk-estimator:hover {background-color: #d4ebff;}#sk-container-id-2 div.sk-parallel-item::after {content: \"\";width: 100%;border-bottom: 1px solid gray;flex-grow: 1;}#sk-container-id-2 div.sk-label:hover label.sk-toggleable__label {background-color: #d4ebff;}#sk-container-id-2 div.sk-serial::before {content: \"\";position: absolute;border-left: 1px solid gray;box-sizing: border-box;top: 0;bottom: 0;left: 50%;z-index: 0;}#sk-container-id-2 div.sk-serial {display: flex;flex-direction: column;align-items: center;background-color: white;padding-right: 0.2em;padding-left: 0.2em;position: relative;}#sk-container-id-2 div.sk-item {position: relative;z-index: 1;}#sk-container-id-2 div.sk-parallel {display: flex;align-items: stretch;justify-content: center;background-color: white;position: relative;}#sk-container-id-2 div.sk-item::before, #sk-container-id-2 div.sk-parallel-item::before {content: \"\";position: absolute;border-left: 1px solid gray;box-sizing: border-box;top: 0;bottom: 0;left: 50%;z-index: -1;}#sk-container-id-2 div.sk-parallel-item {display: flex;flex-direction: column;z-index: 1;position: relative;background-color: white;}#sk-container-id-2 div.sk-parallel-item:first-child::after {align-self: flex-end;width: 50%;}#sk-container-id-2 div.sk-parallel-item:last-child::after {align-self: flex-start;width: 50%;}#sk-container-id-2 div.sk-parallel-item:only-child::after {width: 0;}#sk-container-id-2 div.sk-dashed-wrapped {border: 1px dashed gray;margin: 0 0.4em 0.5em 0.4em;box-sizing: border-box;padding-bottom: 0.4em;background-color: white;}#sk-container-id-2 div.sk-label label {font-family: monospace;font-weight: bold;display: inline-block;line-height: 1.2em;}#sk-container-id-2 div.sk-label-container {text-align: center;}#sk-container-id-2 div.sk-container {/* jupyter's `normalize.less` sets `[hidden] { display: none; }` but bootstrap.min.css set `[hidden] { display: none !important; }` so we also need the `!important` here to be able to override the default hidden behavior on the sphinx rendered scikit-learn.org. See: https://github.com/scikit-learn/scikit-learn/issues/21755 */display: inline-block !important;position: relative;}#sk-container-id-2 div.sk-text-repr-fallback {display: none;}</style><div id=\"sk-container-id-2\" class=\"sk-top-container\"><div class=\"sk-text-repr-fallback\"><pre>RandomForestRegressor(n_estimators=50, n_jobs=-1, random_state=42)</pre><b>In a Jupyter environment, please rerun this cell to show the HTML representation or trust the notebook. <br />On GitHub, the HTML representation is unable to render, please try loading this page with nbviewer.org.</b></div><div class=\"sk-container\" hidden><div class=\"sk-item\"><div class=\"sk-estimator sk-toggleable\"><input class=\"sk-toggleable__control sk-hidden--visually\" id=\"sk-estimator-id-2\" type=\"checkbox\" checked><label for=\"sk-estimator-id-2\" class=\"sk-toggleable__label sk-toggleable__label-arrow\">RandomForestRegressor</label><div class=\"sk-toggleable__content\"><pre>RandomForestRegressor(n_estimators=50, n_jobs=-1, random_state=42)</pre></div></div></div></div></div>"
      ],
      "text/plain": [
       "RandomForestRegressor(n_estimators=50, n_jobs=-1, random_state=42)"
      ]
     },
     "execution_count": 24,
     "metadata": {},
     "output_type": "execute_result"
    }
   ],
   "source": [
    "rf_model.fit(X_train, y_train)"
   ]
  },
  {
   "cell_type": "markdown",
   "metadata": {
    "application/vnd.databricks.v1+cell": {
     "cellMetadata": {},
     "inputWidgets": {},
     "nuid": "ee5a9c7e-f537-4ab4-9da5-30b454a24cb7",
     "showTitle": false,
     "tableResultSettingsMap": {},
     "title": ""
    }
   },
   "source": [
    "- Previsão e Verificando Acurácia:"
   ]
  },
  {
   "cell_type": "code",
   "execution_count": 0,
   "metadata": {
    "application/vnd.databricks.v1+cell": {
     "cellMetadata": {
      "byteLimit": 2048000,
      "rowLimit": 10000
     },
     "inputWidgets": {},
     "nuid": "5b9405d3-ab37-44c0-8e11-8bdc24a068d1",
     "showTitle": false,
     "tableResultSettingsMap": {},
     "title": ""
    }
   },
   "outputs": [],
   "source": [
    "predictions_rf = rf_model.predict(X_test)\n",
    "\n",
    "rmse_rf = np.sqrt(mean_squared_error(y_test, predictions_rf))\n",
    "r2_rf = r2_score(y_test, predictions_rf)"
   ]
  },
  {
   "cell_type": "markdown",
   "metadata": {
    "application/vnd.databricks.v1+cell": {
     "cellMetadata": {},
     "inputWidgets": {},
     "nuid": "413e2e81-a695-4834-b941-50f286a40b18",
     "showTitle": false,
     "tableResultSettingsMap": {},
     "title": ""
    }
   },
   "source": [
    "- Resultado da Random Forest (AMOSTRA):"
   ]
  },
  {
   "cell_type": "code",
   "execution_count": 0,
   "metadata": {
    "application/vnd.databricks.v1+cell": {
     "cellMetadata": {
      "byteLimit": 2048000,
      "rowLimit": 10000
     },
     "inputWidgets": {},
     "nuid": "ef1570bd-9f64-4cd3-bfd8-85015bc34099",
     "showTitle": false,
     "tableResultSettingsMap": {},
     "title": ""
    }
   },
   "outputs": [
    {
     "output_type": "stream",
     "name": "stdout",
     "output_type": "stream",
     "text": [
      "\n--- Resultado do Random Forest ---\nRMSE: 9.09 minutos\nR²: 66.39%\n"
     ]
    }
   ],
   "source": [
    "\n",
    "print(\"\\n--- Resultado do Random Forest ---\")\n",
    "print(f\"RMSE: {rmse_rf:.2f} minutos\")\n",
    "print(f\"R²: {r2_rf:.2%}\")"
   ]
  },
  {
   "cell_type": "markdown",
   "metadata": {
    "application/vnd.databricks.v1+cell": {
     "cellMetadata": {},
     "inputWidgets": {},
     "nuid": "868c6da5-124b-4cab-8fc3-1aab5b2213f7",
     "showTitle": false,
     "tableResultSettingsMap": {},
     "title": ""
    }
   },
   "source": [
    "%md\n",
    "RMSE: Ele pode errar até 9.09min pra mais ou pra menos do que a duração da viagem!\n",
    "\n",
    "Um R² de 66.39% significa que ele pode acertar 2/3 das previsões! Bem melhor do que o modelo de regressão linear para esse caso!"
   ]
  }
 ],
 "metadata": {
  "application/vnd.databricks.v1+notebook": {
   "computePreferences": null,
   "dashboards": [],
   "environmentMetadata": null,
   "inputWidgetPreferences": null,
   "language": "python",
   "notebookMetadata": {
    "mostRecentlyExecutedCommandWithImplicitDF": {
     "commandId": 7989245306736105,
     "dataframes": [
      "_sqldf"
     ]
    },
    "pythonIndentUnit": 2
   },
   "notebookName": "Taxi_nyc_notebook",
   "widgets": {}
  },
  "language_info": {
   "name": "python"
  }
 },
 "nbformat": 4,
 "nbformat_minor": 0
}